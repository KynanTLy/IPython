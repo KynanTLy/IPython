{
 "cells": [
  {
   "cell_type": "markdown",
   "metadata": {},
   "source": [
    "# Plotting Words Frequency with matplotlib\n",
    "\n",
    "In this notebook, it will go over how to acquire a corpus from gutenberg. Afterwards using nltk analyze the text for word frequency. Finally using matplotlib plot the word frequncy.\n",
    "\n",
    "\n",
    "## Libraries and Resources used\n",
    "\n",
    "-  Python 3\n",
    "-  nltk\n",
    "-  urllib3\n",
    "-  matplotlib\n",
    "\n",
    "## Note:\n",
    "\n",
    "For installation of the nessesary resources and libraries refer to their respective home page for installation steps for your operation system.\n",
    "\n",
    "\n",
    "Written in October 2017"
   ]
  },
  {
   "cell_type": "markdown",
   "metadata": {},
   "source": [
    "### Importing all the required Libraries"
   ]
  },
  {
   "cell_type": "code",
   "execution_count": 8,
   "metadata": {
    "collapsed": true
   },
   "outputs": [],
   "source": [
    "import urllib3\n",
    "import nltk\n",
    "import matplotlib.pyplot as plt\n",
    "import os\n",
    "\n",
    "# make sure that graphs are embedded into our notebook output\n",
    "%matplotlib inline"
   ]
  },
  {
   "cell_type": "markdown",
   "metadata": {},
   "source": [
    "### Loading a text from gutenburg and saving it in a txt file\n",
    "\n",
    "In this example we will be looking at the text of Moby Dick by Herman Melville"
   ]
  },
  {
   "cell_type": "code",
   "execution_count": 4,
   "metadata": {
    "collapsed": true
   },
   "outputs": [],
   "source": [
    "# Using urllib.request we can fetch the text\n",
    "webUrl = \"http://www.gutenberg.org/cache/epub/2147/pg2147.txt\"\n",
    "\n",
    "# Save the text from the webpage into a variable\n",
    "http_pool = urllib3.connection_from_url(webUrl)\n",
    "storyString = http_pool.urlopen('GET',webUrl)\n",
    "\n",
    "# Save the data into a text file\n",
    "with open(\"MobyDick.txt\", \"w\") as f:\n",
    "    # Write all the content into the file\n",
    "    f.write(storyString.data.decode('utf-8'))\n"
   ]
  },
  {
   "cell_type": "markdown",
   "metadata": {},
   "source": [
    "### Using nltk to get word frequency\n",
    "\n",
    "Although it wasn't vital that we saved the URL content into another text file (since the original URL links to a text file). It allows you to apply other code/programs to the text file for cleaning. In this example however we will not be doing any additional cleaning to the text file."
   ]
  },
  {
   "cell_type": "code",
   "execution_count": 5,
   "metadata": {},
   "outputs": [
    {
     "name": "stdout",
     "output_type": "stream",
     "text": [
      "  the    of   and    to     a    in     i    it  that   was    is  with    at    as  this    by which   not   for  have \n",
      " 7238  4344  2461  2340  2134  1983  1292  1164  1053  1040   866   797   767   719   693   665   659   623   611   608 \n"
     ]
    }
   ],
   "source": [
    "# Read the text file\n",
    "with open(\"MobyDick.txt\", \"r\") as f:\n",
    "    mobyDickText = f.read()\n",
    "\n",
    "# Lowercase all the words (to ensure \"Sure\" and \"sure\" are matched together)\n",
    "# Also word_tokenize splits each element in individual tokens\n",
    "mobyDickText = nltk.word_tokenize(mobyDickText.lower())\n",
    "\n",
    "# Remove any words that isn't a word\n",
    "mobyDickText = [word for word in mobyDickText if word[0].isalpha()]\n",
    "\n",
    "# Using nltk find all the frequencies\n",
    "mobyDickTextFrequency = nltk.FreqDist(mobyDickText)\n",
    "\n",
    "# View the top 20 frequencies\n",
    "mobyDickTextFrequency.tabulate(20)"
   ]
  },
  {
   "cell_type": "markdown",
   "metadata": {
    "collapsed": true
   },
   "source": [
    "### Removing Stop words\n",
    "\n",
    "Depending on your needs you might not to keep in stopwords. In this example we will be removing stop words from the text to get a better idea on what words come out often that are not stop words. However this section can be skipped if you wish to keep stop words in the text."
   ]
  },
  {
   "cell_type": "code",
   "execution_count": 10,
   "metadata": {
    "collapsed": true
   },
   "outputs": [],
   "source": [
    "# Adding stopwords\n",
    "stopwords = nltk.corpus.stopwords.words(\"english\")\n",
    "\n",
    "# For every token that is in stopwords, remove it\n",
    "mobyDictText = [token for token in mobyDictText if token not in stopwords]   \n",
    "\n",
    "# Using nltk find all the frequencies\n",
    "mobyDickTextFrequency = nltk.FreqDist(mobyDickText)"
   ]
  },
  {
   "cell_type": "markdown",
   "metadata": {},
   "source": [
    "### Plotting the Result"
   ]
  },
  {
   "cell_type": "code",
   "execution_count": 26,
   "metadata": {},
   "outputs": [
    {
     "data": {
      "image/png": "[encoded data removed]",
      "text/plain": [
       "<matplotlib.figure.Figure at 0x7f482ad2e1d0>"
      ]
     },
     "metadata": {},
     "output_type": "display_data"
    }
   ],
   "source": [
    "# Plot the top 25 frequency words in a graph\n",
    "modyDickTextFrequency.plot(25, title=\"Top Frequency Word Tokens in Moby Dick\")"
   ]
  },
  {
   "cell_type": "markdown",
   "metadata": {},
   "source": [
    "### Conclusion\n",
    "\n",
    "Now you are to use urllib3 to go to a URL to get the content. Followed by the ability to save the text into a save file which you can then load and clean however you wish. Finally using nltk and matplotlib able to map the frequency of words in a given text.\n",
    "\n",
    "This notebook was created in part from resources found at :\n",
    "https://github.com/sgsinclair/alta/blob/6dd71da5377217cdee85efba384c8bf66936ab82/ipynb/GettingGraphical.ipynb"
   ]
  },
  {
   "cell_type": "code",
   "execution_count": null,
   "metadata": {
    "collapsed": true
   },
   "outputs": [],
   "source": []
  }
 ],
 "metadata": {
  "kernelspec": {
   "display_name": "Python 3",
   "language": "python",
   "name": "python3"
  },
  "language_info": {
   "codemirror_mode": {
    "name": "ipython",
    "version": 3
   },
   "file_extension": ".py",
   "mimetype": "text/x-python",
   "name": "python",
   "nbconvert_exporter": "python",
   "pygments_lexer": "ipython3",
   "version": "3.6.1"
  }
 },
 "nbformat": 4,
 "nbformat_minor": 2
}
