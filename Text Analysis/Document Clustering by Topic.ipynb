{
 "cells": [
  {
   "cell_type": "markdown",
   "metadata": {},
   "source": [
    "# Document Clustering by Topic"
   ]
  },
  {
   "cell_type": "code",
   "execution_count": 246,
   "metadata": {
    "collapsed": true
   },
   "outputs": [],
   "source": [
    "import numpy as np\n",
    "import pandas as pd\n",
    "import nltk\n",
    "import re\n",
    "import os\n",
    "import codecs\n",
    "from nltk.tag import pos_tag\n",
    "\n",
    "from sklearn import feature_extraction\n",
    "import mpld3\n",
    "\n",
    "from nltk.stem.snowball import SnowballStemmer\n",
    "import glob\n",
    "from sklearn.feature_extraction.text import TfidfVectorizer\n",
    "from sklearn.cluster import KMeans\n",
    "from sklearn.metrics.pairwise import cosine_similarity\n",
    "from __future__ import print_function\n",
    "\n",
    "import matplotlib.pyplot as plt\n",
    "import matplotlib as mpl\n",
    "from nltk.tag import pos_tag\n",
    "from sklearn.manifold import MDS\n",
    "from sklearn.externals import joblib\n",
    "from scipy.cluster.hierarchy import ward, dendrogram\n",
    "\n",
    "from gensim import corpora, models, similarities \n",
    "\n",
    "\n",
    "%matplotlib inline\n",
    "\n"
   ]
  },
  {
   "cell_type": "code",
   "execution_count": 247,
   "metadata": {
    "collapsed": true
   },
   "outputs": [],
   "source": [
    "# Set path to the file with novels\n",
    "path = \"./Novels\"\n",
    "\n",
    "# Save all the titles of the texts\n",
    "textName = []\n",
    "\n",
    "# Save all the content of the texts\n",
    "textContent = []\n",
    "\n",
    "# Go to the directory with all the text files\n",
    "for filename in os.listdir(path):\n",
    "    \n",
    "    # Add the file name and remove the file type (in this case \".txt\")\n",
    "    textName.append(filename[:-4])\n",
    "    \n",
    "    # Open each file and add all the content \n",
    "    with open(path + '/' + filename, \"r\") as file:\n",
    "         fileContent = file.read()\n",
    "\n",
    "    # Add the content of the file\n",
    "    textContent.append(fileContent)\n",
    "    "
   ]
  },
  {
   "cell_type": "code",
   "execution_count": 248,
   "metadata": {},
   "outputs": [
    {
     "data": {
      "text/plain": [
       "24"
      ]
     },
     "execution_count": 248,
     "metadata": {},
     "output_type": "execute_result"
    }
   ],
   "source": [
    "#Check the amount of text being analysis\n",
    "len(textName)"
   ]
  },
  {
   "cell_type": "code",
   "execution_count": 249,
   "metadata": {},
   "outputs": [
    {
     "data": {
      "text/plain": [
       "24"
      ]
     },
     "execution_count": 249,
     "metadata": {},
     "output_type": "execute_result"
    }
   ],
   "source": [
    "#Check to see if the amount of text content matches number of titles\n",
    "len(textContent)"
   ]
  },
  {
   "cell_type": "code",
   "execution_count": 258,
   "metadata": {},
   "outputs": [],
   "source": [
    "# Apply stop words to all the text content\n",
    "\n",
    "# load nltk's English stopwords as variable called 'stopwords'\n",
    "stopwords = nltk.corpus.stopwords.words('english')\n",
    "\n",
    "# Use snowballer to break words into their roots\n",
    "stemmer = SnowballStemmer(\"english\", ignore_stopwords=True)\n"
   ]
  },
  {
   "cell_type": "code",
   "execution_count": 259,
   "metadata": {
    "collapsed": true
   },
   "outputs": [],
   "source": [
    "# Tokenize and stem is used to break each token down into their base components. This is done to make it simplier\n",
    "# on the algorthm later\n",
    "def token_stem(tokens):\n",
    "    # first tokenize by sentence, then by word to ensure that punctuation is caught as it's own token\n",
    "    #tokens = [word for sent in nltk.sent_tokenize(text) for word in nltk.word_tokenize(sent)]\n",
    "    \n",
    "    #filtered_tokens = []\n",
    "\n",
    "    # Using regular expression break remove all token not containing letters\n",
    "    #for token in tokens:\n",
    "    #    if re.search('[a-zA-Z]', token):\n",
    "    #        filtered_tokens.append(token)\n",
    "    \n",
    "    # Stem each word to their root word\n",
    "    stems = [stemmer.stem(t) for t in tokens]\n",
    "    return stems\n",
    "\n",
    "# This is used to return stemmed words back to their original form. \n",
    "def filter_word(tokens):\n",
    "    \n",
    "    # first tokenize by sentence, then by word to ensure that punctuation is caught as it's own token\n",
    "    #tokens = [word.lower() for sent in nltk.sent_tokenize(text) for word in nltk.word_tokenize(sent)]\n",
    "    filtered_tokens = []\n",
    "    \n",
    "    \n",
    "    # filter out any tokens not containing letters (e.g., numeric tokens, raw punctuation)\n",
    "    for token in tokens:\n",
    "        if re.search('[a-zA-Z]', token):\n",
    "            \n",
    "            #Check for common contractions and remove them\n",
    "            #You can add additional cleaning methods here as well\n",
    "            if token[0] == \"\\'\" or token == \"won't\" or token == \"n't\":\n",
    "                filtered_tokens.append(remove_Contractions(token))\n",
    "            else:\n",
    "                filtered_tokens.append(token)\n",
    "            \n",
    "            \n",
    "    return filtered_tokens\n",
    "\n",
    "#Remove some common contractions\n",
    "def remove_Contractions(token):\n",
    "    return token.replace(\"won't\", \"will not\").replace(\"n't\", \"not\") \\\n",
    "    .replace(\"'s\", \"is\").replace(\"'m\", \"am\") \\\n",
    "    .replace(\"'ll\", \"will\").replace(\"'d\", \"would\") \\\n",
    "    .replace(\"'re\", \"are\").replace(\"'ve\", \"have\")"
   ]
  },
  {
   "cell_type": "code",
   "execution_count": 260,
   "metadata": {},
   "outputs": [],
   "source": [
    "#Tokenize the text and remove any Propernouns using nltk post_tag\n",
    "def strip_properNouns(token):\n",
    "    #Break down each word into thier category for tags\n",
    "    tags = pos_tag(token)\n",
    "    \n",
    "    #Remove all the words with the proper noun tags or possessives\n",
    "    removedProperNoun = [word for word,pos in tags if pos != 'NNP' and pos != 'POS' and pos != 'NNPS']\n",
    "    \n",
    "    return removedProperNoun\n",
    "\n",
    "#Basic Tokenize text if you want to keep proper nouns\n",
    "def tokenize_Text(text):\n",
    "    tokens = [word for sent in nltk.sent_tokenize(text) for word in nltk.word_tokenize(sent)]\n",
    "    tokens =[word for word in tokens if word not in stopwords]\n",
    "    return tokens\n",
    "\n",
    "def full_clean(text):\n",
    "    return token_stem(filter_word(strip_properNouns(tokenize_Text(text))))\n"
   ]
  },
  {
   "cell_type": "code",
   "execution_count": 274,
   "metadata": {},
   "outputs": [
    {
     "data": {
      "text/plain": [
       "['the', 'i', 'thing']"
      ]
     },
     "execution_count": 274,
     "metadata": {},
     "output_type": "execute_result"
    }
   ],
   "source": [
    "full_clean(\"The How are you the the I am thing\")"
   ]
  },
  {
   "cell_type": "code",
   "execution_count": 99,
   "metadata": {},
   "outputs": [
    {
     "data": {
      "text/plain": [
       "['like', 'have', 'not', 'to', 'eat', 'at']"
      ]
     },
     "execution_count": 99,
     "metadata": {},
     "output_type": "execute_result"
    }
   ],
   "source": [
    "token_stem(filter_word(strip_properNouns(\"Michael Jackson likes haven't to eat at McDonalds\")))"
   ]
  },
  {
   "cell_type": "code",
   "execution_count": 263,
   "metadata": {},
   "outputs": [],
   "source": [
    "#Create two seperate list to hold one with just tokenized words and the others stemmed version of those words\n",
    "text_stemmed = []\n",
    "text_tokenized = []\n",
    "\n",
    "# iterate through all the text\n",
    "for work in textContent:\n",
    "\n",
    "    # Store the text that has been stemmed into text stemmed\n",
    "    alltext_stemmed = full_clean(work)\n",
    "    text_stemmed.extend(alltext_stemmed)\n",
    "    \n",
    "    # Store the all the text that has not been stemmed into text tokenized\n",
    "    alltext_tokenized = filter_word(strip_properNouns(tokenize_Text(work)))\n",
    "    text_tokenized.extend(alltext_tokenized)"
   ]
  },
  {
   "cell_type": "code",
   "execution_count": 267,
   "metadata": {},
   "outputs": [
    {
     "data": {
      "text/plain": [
       "['part', 'the', 'the', 'i', 'inclin', 'think', 'said', 'i', 'i', 'remark']"
      ]
     },
     "execution_count": 267,
     "metadata": {},
     "output_type": "execute_result"
    }
   ],
   "source": [
    "text_stemmed[:10]"
   ]
  },
  {
   "cell_type": "code",
   "execution_count": 268,
   "metadata": {
    "collapsed": true
   },
   "outputs": [],
   "source": [
    "# Create a panda dataframe that has stemmed words as index and tokenized words as columns\n",
    "# This is so that words like \"happened, happening\" are all mapped to the same index \"happen\"\n",
    "vocab_frame = pd.DataFrame({'words': text_tokenized}, index = text_stemmed)"
   ]
  },
  {
   "cell_type": "code",
   "execution_count": 270,
   "metadata": {},
   "outputs": [
    {
     "data": {
      "text/plain": [
       "['Part', 'The', 'The', 'I', 'inclined', 'think', 'said', 'I', 'I', 'remarked']"
      ]
     },
     "execution_count": 270,
     "metadata": {},
     "output_type": "execute_result"
    }
   ],
   "source": [
    "text_tokenized[:10]"
   ]
  },
  {
   "cell_type": "code",
   "execution_count": 364,
   "metadata": {},
   "outputs": [
    {
     "name": "stdout",
     "output_type": "stream",
     "text": [
      "CPU times: user 4min 25s, sys: 368 ms, total: 4min 26s\n",
      "Wall time: 4min 26s\n",
      "(24, 33213)\n"
     ]
    }
   ],
   "source": [
    "# max_df: max cut off for how frequent a term appears in the collection\n",
    "# min_df: min start point to be considered a feature\n",
    "# max_features: maximum amount of features that can exist\n",
    "# Tokenizer: gave the previously defined tokenizer and stem program\n",
    "# ngram_range: Declare that I want to look at unigrams, bigrams and trigrams\n",
    "\n",
    "tfidf_vectorizer = TfidfVectorizer(max_df=0.8, max_features=200000,\n",
    "                                 min_df=0.2, \n",
    "                                 use_idf=True, tokenizer=full_clean, ngram_range=(1,3))\n",
    "\n",
    "%time tfidf_matrix = tfidf_vectorizer.fit_transform(textContent)\n",
    "\n",
    "print(tfidf_matrix.shape)"
   ]
  },
  {
   "cell_type": "code",
   "execution_count": 366,
   "metadata": {},
   "outputs": [],
   "source": [
    "dist = 1 - cosine_similarity(tfidf_matrix)\n",
    "terms = tfidf_vectorizer.get_feature_names()"
   ]
  },
  {
   "cell_type": "code",
   "execution_count": 386,
   "metadata": {},
   "outputs": [
    {
     "data": {
      "text/plain": [
       "'\\nPart 1--T'"
      ]
     },
     "execution_count": 386,
     "metadata": {},
     "output_type": "execute_result"
    }
   ],
   "source": [
    "textContent[0][:10]"
   ]
  },
  {
   "cell_type": "code",
   "execution_count": 367,
   "metadata": {},
   "outputs": [
    {
     "name": "stdout",
     "output_type": "stream",
     "text": [
      "CPU times: user 7.43 s, sys: 88 ms, total: 7.52 s\n",
      "Wall time: 3.8 s\n"
     ]
    }
   ],
   "source": [
    "num_clusters = 5\n",
    "\n",
    "km = KMeans(n_clusters=num_clusters)\n",
    "\n",
    "%time km.fit(tfidf_matrix)\n",
    "\n",
    "clusters = km.labels_.tolist()"
   ]
  },
  {
   "cell_type": "code",
   "execution_count": 368,
   "metadata": {},
   "outputs": [
    {
     "data": {
      "text/plain": [
       "['doc_cluster.pkl']"
      ]
     },
     "execution_count": 368,
     "metadata": {},
     "output_type": "execute_result"
    }
   ],
   "source": [
    "joblib.dump(km,  'doc_cluster.pkl')"
   ]
  },
  {
   "cell_type": "code",
   "execution_count": 369,
   "metadata": {
    "collapsed": true
   },
   "outputs": [],
   "source": [
    "km = joblib.load('doc_cluster.pkl')\n",
    "clusters = km.labels_.tolist()"
   ]
  },
  {
   "cell_type": "code",
   "execution_count": 381,
   "metadata": {},
   "outputs": [
    {
     "data": {
      "text/html": [
       "<div>\n",
       "<style>\n",
       "    .dataframe thead tr:only-child th {\n",
       "        text-align: right;\n",
       "    }\n",
       "\n",
       "    .dataframe thead th {\n",
       "        text-align: left;\n",
       "    }\n",
       "\n",
       "    .dataframe tbody tr th {\n",
       "        vertical-align: top;\n",
       "    }\n",
       "</style>\n",
       "<table border=\"1\" class=\"dataframe\">\n",
       "  <thead>\n",
       "    <tr style=\"text-align: right;\">\n",
       "      <th></th>\n",
       "      <th>title</th>\n",
       "      <th>cluster</th>\n",
       "      <th>content</th>\n",
       "    </tr>\n",
       "  </thead>\n",
       "  <tbody>\n",
       "    <tr>\n",
       "      <th>0</th>\n",
       "      <td>The Valley of Fear</td>\n",
       "      <td>0</td>\n",
       "      <td>\\nPart 1--The Tragedy of Birlstone\\n\\n\\n\\n\\nCh...</td>\n",
       "    </tr>\n",
       "    <tr>\n",
       "      <th>3</th>\n",
       "      <td>Emma</td>\n",
       "      <td>3</td>\n",
       "      <td>﻿\\n\\nVOLUME I\\n\\n\\n\\nCHAPTER I\\n\\n\\nEmma Woodh...</td>\n",
       "    </tr>\n",
       "    <tr>\n",
       "      <th>4</th>\n",
       "      <td>Sense and Sensibility</td>\n",
       "      <td>4</td>\n",
       "      <td>﻿CHAPTER 1\\n\\n\\nThe family of Dashwood had lon...</td>\n",
       "    </tr>\n",
       "    <tr>\n",
       "      <th>1</th>\n",
       "      <td>The Pickwick Papers</td>\n",
       "      <td>1</td>\n",
       "      <td>﻿\\nCONTENTS\\n\\n\\nTHE POSTHUMOUS PAPERS OF THE ...</td>\n",
       "    </tr>\n",
       "    <tr>\n",
       "      <th>1</th>\n",
       "      <td>Our Mutual Friend</td>\n",
       "      <td>1</td>\n",
       "      <td>﻿\\nCONTENTS\\n\\n\\n     Book the First\\n\\n     T...</td>\n",
       "    </tr>\n",
       "    <tr>\n",
       "      <th>3</th>\n",
       "      <td>Persuasion</td>\n",
       "      <td>3</td>\n",
       "      <td>﻿Chapter 1\\n\\n\\nSir Walter Elliot, of Kellynch...</td>\n",
       "    </tr>\n",
       "    <tr>\n",
       "      <th>4</th>\n",
       "      <td>Mansfield Park</td>\n",
       "      <td>4</td>\n",
       "      <td>﻿CHAPTER I\\n\\nAbout thirty years ago Miss Mari...</td>\n",
       "    </tr>\n",
       "    <tr>\n",
       "      <th>1</th>\n",
       "      <td>A Tale of Two Cities</td>\n",
       "      <td>1</td>\n",
       "      <td>﻿\\n\\nCONTENTS\\n\\n\\n     Book the First--Recall...</td>\n",
       "    </tr>\n",
       "    <tr>\n",
       "      <th>2</th>\n",
       "      <td>Tales of Terror and Mystery</td>\n",
       "      <td>2</td>\n",
       "      <td>Contents\\n\\nTales of Terror\\n\\n  The Horror of...</td>\n",
       "    </tr>\n",
       "    <tr>\n",
       "      <th>1</th>\n",
       "      <td>Great Expectations</td>\n",
       "      <td>1</td>\n",
       "      <td>﻿\\nChapter I\\n\\nMy father’s family name being ...</td>\n",
       "    </tr>\n",
       "    <tr>\n",
       "      <th>1</th>\n",
       "      <td>The Life And Adventure Of Nicholas Nickleby</td>\n",
       "      <td>1</td>\n",
       "      <td>﻿\\n\\nAUTHOR’S PREFACE\\n\\n\\nThis story was begu...</td>\n",
       "    </tr>\n",
       "    <tr>\n",
       "      <th>3</th>\n",
       "      <td>Northanger Abbey</td>\n",
       "      <td>3</td>\n",
       "      <td>﻿CHAPTER 1\\n\\n\\nNo one who had ever seen Cathe...</td>\n",
       "    </tr>\n",
       "    <tr>\n",
       "      <th>2</th>\n",
       "      <td>The Lost World</td>\n",
       "      <td>2</td>\n",
       "      <td>\\n\\n\\n\\n                             Foreword\\...</td>\n",
       "    </tr>\n",
       "    <tr>\n",
       "      <th>0</th>\n",
       "      <td>The Return of Sherlock Holmes</td>\n",
       "      <td>0</td>\n",
       "      <td>\\n\\n\\nCONTENTS:\\n\\n     The Adventure Of The E...</td>\n",
       "    </tr>\n",
       "    <tr>\n",
       "      <th>1</th>\n",
       "      <td>David Copperfield</td>\n",
       "      <td>1</td>\n",
       "      <td>﻿\\nCONTENTS\\n\\n\\n     I.      I Am Born\\n     ...</td>\n",
       "    </tr>\n",
       "    <tr>\n",
       "      <th>0</th>\n",
       "      <td>A Study In Scarlet</td>\n",
       "      <td>0</td>\n",
       "      <td>A STUDY IN SCARLET.\\n\\n\\n\\n\\n\\nPART I.\\n\\n(_Be...</td>\n",
       "    </tr>\n",
       "    <tr>\n",
       "      <th>2</th>\n",
       "      <td>Bleak House</td>\n",
       "      <td>2</td>\n",
       "      <td>﻿\\nCONTENTS\\n\\n            Preface\\n         I...</td>\n",
       "    </tr>\n",
       "    <tr>\n",
       "      <th>2</th>\n",
       "      <td>Oliver Twist</td>\n",
       "      <td>2</td>\n",
       "      <td>﻿\\n\\n\\nCONTENTS\\n\\n       I  TREATS OF THE PLA...</td>\n",
       "    </tr>\n",
       "    <tr>\n",
       "      <th>0</th>\n",
       "      <td>The Hound of the Baskervilles</td>\n",
       "      <td>0</td>\n",
       "      <td>\\n\\n  CONTENTS\\n\\n  Chapter 1--Mr. Sherlock Ho...</td>\n",
       "    </tr>\n",
       "    <tr>\n",
       "      <th>0</th>\n",
       "      <td>The Adventures of Sherlock Holmes</td>\n",
       "      <td>0</td>\n",
       "      <td>\\n\\n   I. A Scandal in Bohemia\\n  II. The Red-...</td>\n",
       "    </tr>\n",
       "    <tr>\n",
       "      <th>4</th>\n",
       "      <td>Lady Susan</td>\n",
       "      <td>4</td>\n",
       "      <td>﻿\\n\\nI\\n\\n\\nLADY SUSAN VERNON TO MR. VERNON\\n\\...</td>\n",
       "    </tr>\n",
       "    <tr>\n",
       "      <th>2</th>\n",
       "      <td>A Christmas Carol</td>\n",
       "      <td>2</td>\n",
       "      <td>﻿\\n\\nPREFACE\\n\\nI HAVE endeavoured in this Gho...</td>\n",
       "    </tr>\n",
       "    <tr>\n",
       "      <th>0</th>\n",
       "      <td>The Sign of the Four</td>\n",
       "      <td>0</td>\n",
       "      <td>\\n\\nContents\\n\\n\\n\\n\\n\\nChapter I\\n\\nThe Scien...</td>\n",
       "    </tr>\n",
       "    <tr>\n",
       "      <th>3</th>\n",
       "      <td>Pride and Prejudice</td>\n",
       "      <td>3</td>\n",
       "      <td>﻿Chapter 1\\n\\n\\nIt is a truth universally ackn...</td>\n",
       "    </tr>\n",
       "  </tbody>\n",
       "</table>\n",
       "</div>"
      ],
      "text/plain": [
       "                                         title  cluster  \\\n",
       "0                           The Valley of Fear        0   \n",
       "3                                         Emma        3   \n",
       "4                        Sense and Sensibility        4   \n",
       "1                          The Pickwick Papers        1   \n",
       "1                            Our Mutual Friend        1   \n",
       "3                                   Persuasion        3   \n",
       "4                               Mansfield Park        4   \n",
       "1                         A Tale of Two Cities        1   \n",
       "2                  Tales of Terror and Mystery        2   \n",
       "1                           Great Expectations        1   \n",
       "1  The Life And Adventure Of Nicholas Nickleby        1   \n",
       "3                             Northanger Abbey        3   \n",
       "2                               The Lost World        2   \n",
       "0                The Return of Sherlock Holmes        0   \n",
       "1                            David Copperfield        1   \n",
       "0                           A Study In Scarlet        0   \n",
       "2                                  Bleak House        2   \n",
       "2                                 Oliver Twist        2   \n",
       "0                The Hound of the Baskervilles        0   \n",
       "0            The Adventures of Sherlock Holmes        0   \n",
       "4                                   Lady Susan        4   \n",
       "2                            A Christmas Carol        2   \n",
       "0                         The Sign of the Four        0   \n",
       "3                          Pride and Prejudice        3   \n",
       "\n",
       "                                             content  \n",
       "0  \\nPart 1--The Tragedy of Birlstone\\n\\n\\n\\n\\nCh...  \n",
       "3  ﻿\\n\\nVOLUME I\\n\\n\\n\\nCHAPTER I\\n\\n\\nEmma Woodh...  \n",
       "4  ﻿CHAPTER 1\\n\\n\\nThe family of Dashwood had lon...  \n",
       "1  ﻿\\nCONTENTS\\n\\n\\nTHE POSTHUMOUS PAPERS OF THE ...  \n",
       "1  ﻿\\nCONTENTS\\n\\n\\n     Book the First\\n\\n     T...  \n",
       "3  ﻿Chapter 1\\n\\n\\nSir Walter Elliot, of Kellynch...  \n",
       "4  ﻿CHAPTER I\\n\\nAbout thirty years ago Miss Mari...  \n",
       "1  ﻿\\n\\nCONTENTS\\n\\n\\n     Book the First--Recall...  \n",
       "2  Contents\\n\\nTales of Terror\\n\\n  The Horror of...  \n",
       "1  ﻿\\nChapter I\\n\\nMy father’s family name being ...  \n",
       "1  ﻿\\n\\nAUTHOR’S PREFACE\\n\\n\\nThis story was begu...  \n",
       "3  ﻿CHAPTER 1\\n\\n\\nNo one who had ever seen Cathe...  \n",
       "2  \\n\\n\\n\\n                             Foreword\\...  \n",
       "0  \\n\\n\\nCONTENTS:\\n\\n     The Adventure Of The E...  \n",
       "1  ﻿\\nCONTENTS\\n\\n\\n     I.      I Am Born\\n     ...  \n",
       "0  A STUDY IN SCARLET.\\n\\n\\n\\n\\n\\nPART I.\\n\\n(_Be...  \n",
       "2  ﻿\\nCONTENTS\\n\\n            Preface\\n         I...  \n",
       "2  ﻿\\n\\n\\nCONTENTS\\n\\n       I  TREATS OF THE PLA...  \n",
       "0  \\n\\n  CONTENTS\\n\\n  Chapter 1--Mr. Sherlock Ho...  \n",
       "0  \\n\\n   I. A Scandal in Bohemia\\n  II. The Red-...  \n",
       "4  ﻿\\n\\nI\\n\\n\\nLADY SUSAN VERNON TO MR. VERNON\\n\\...  \n",
       "2  ﻿\\n\\nPREFACE\\n\\nI HAVE endeavoured in this Gho...  \n",
       "0  \\n\\nContents\\n\\n\\n\\n\\n\\nChapter I\\n\\nThe Scien...  \n",
       "3  ﻿Chapter 1\\n\\n\\nIt is a truth universally ackn...  "
      ]
     },
     "execution_count": 381,
     "metadata": {},
     "output_type": "execute_result"
    }
   ],
   "source": [
    "books = { 'title': textName, 'content': textContent, 'cluster': clusters }\n",
    "\n",
    "frame = pd.DataFrame(books, index = [clusters] , columns = ['title', 'cluster', 'content'])\n",
    "frame"
   ]
  },
  {
   "cell_type": "code",
   "execution_count": 371,
   "metadata": {},
   "outputs": [
    {
     "data": {
      "text/plain": [
       "1    6\n",
       "0    6\n",
       "2    5\n",
       "3    4\n",
       "4    3\n",
       "Name: cluster, dtype: int64"
      ]
     },
     "execution_count": 371,
     "metadata": {},
     "output_type": "execute_result"
    }
   ],
   "source": [
    "frame['cluster'].value_counts()"
   ]
  },
  {
   "cell_type": "code",
   "execution_count": 372,
   "metadata": {},
   "outputs": [
    {
     "name": "stdout",
     "output_type": "stream",
     "text": [
      "Top terms per cluster:\n",
      "\n",
      "Cluster 0 words: Holmes,\n",
      " Watson,\n",
      " said,\n",
      " call,\n",
      " rush,\n",
      " ask,\n",
      "\n",
      "\n",
      "\n",
      "Cluster 0 titles: The Valley of Fear,"
     ]
    },
    {
     "name": "stderr",
     "output_type": "stream",
     "text": [
      "/home/kynan/anaconda3/lib/python3.6/site-packages/ipykernel_launcher.py:24: DeprecationWarning: \n",
      ".ix is deprecated. Please use\n",
      ".loc for label based indexing or\n",
      ".iloc for positional indexing\n",
      "\n",
      "See the documentation here:\n",
      "http://pandas.pydata.org/pandas-docs/stable/indexing.html#deprecate_ix\n"
     ]
    },
    {
     "name": "stdout",
     "output_type": "stream",
     "text": [
      " The Return of Sherlock Holmes, A Study In Scarlet, The Hound of the Baskervilles, The Adventures of Sherlock Holmes, The Sign of the Four,\n",
      "\n",
      "\n",
      "Cluster 1 words: said,\n",
      " Joe,\n",
      " Sam,\n",
      " aunt,\n",
      " 'em,\n",
      " madam,\n",
      "\n",
      "\n",
      "\n",
      "Cluster 1 titles: The Pickwick Papers, Our Mutual Friend, A Tale of Two Cities, Great Expectations, The Life And Adventure Of Nicholas Nickleby, David Copperfield,\n",
      "\n",
      "\n",
      "Cluster 2 words: Not,\n",
      " professor,\n",
      " olive,\n",
      " ghost,\n",
      " challenge,\n",
      " 'I,\n",
      "\n",
      "\n",
      "\n",
      "Cluster 2 titles: Tales of Terror and Mystery, The Lost World, Bleak House, Oliver Twist, A Christmas Carol,\n",
      "\n",
      "\n",
      "Cluster 3 words: Catherine,\n",
      " Elizabeth,\n",
      " Emma,\n",
      " Anne,\n",
      " Jane,\n",
      " captain,\n",
      "\n",
      "\n",
      "\n",
      "Cluster 3 titles: Emma, Persuasion, Northanger Abbey, Pride and Prejudice,\n",
      "\n",
      "\n",
      "Cluster 4 words: Fanny,\n",
      " Susan,\n",
      " Edwards,\n",
      " Lucie,\n",
      " sir,\n",
      " colonel,\n",
      "\n",
      "\n",
      "\n",
      "Cluster 4 titles: Sense and Sensibility, Mansfield Park, Lady Susan,\n",
      "\n",
      "\n"
     ]
    }
   ],
   "source": [
    "print(\"Top terms per cluster:\")\n",
    "print()\n",
    "order_centroids = km.cluster_centers_.argsort()[:, ::-1]\n",
    "\n",
    "clusterTerm = []\n",
    "\n",
    "for i in range(num_clusters):\n",
    "    print(\"Cluster %d words:\" % i, end='')\n",
    "\n",
    "    term = ''\n",
    "    for ind in order_centroids[i, :6]:\n",
    "        title = vocab_frame.ix[terms[ind].split(' ')].values.tolist()[0][0]\n",
    "        try:\n",
    "            print(\" \" + title + \",\")\n",
    "            term = term + title + \", \"\n",
    "        except:\n",
    "            print(\" \" + vocab_frame.index[ind] + \",\")\n",
    "            term = term + vocab_frame.index[ind] + \", \"\n",
    "            \n",
    "    print(\"\\n\\n\")\n",
    "    print(\"Cluster %d titles:\" % i, end='')\n",
    "\n",
    "    try:\n",
    "        for title in frame.ix[i]['title'].values.tolist():\n",
    "            print(' %s,' % title, end='')\n",
    "    except:\n",
    "        print (' %s' % frame.ix[i]['title'], end = '')\n",
    "        \n",
    "    clusterTerm.append(term)\n",
    "    print(\"\\n\\n\")\n"
   ]
  },
  {
   "cell_type": "code",
   "execution_count": null,
   "metadata": {},
   "outputs": [],
   "source": []
  },
  {
   "cell_type": "code",
   "execution_count": 373,
   "metadata": {
    "collapsed": true
   },
   "outputs": [],
   "source": [
    "MDS()\n",
    "\n",
    "# two components as we're plotting points in a two-dimensional plane\n",
    "# \"precomputed\" because we provide a distance matrix\n",
    "# we will also specify `random_state` so the plot is reproducible.\n",
    "mds = MDS(n_components=2, dissimilarity=\"precomputed\", random_state=1)\n",
    "\n",
    "pos = mds.fit_transform(dist)  # shape (n_components, n_samples)\n",
    "\n",
    "xs, ys = pos[:, 0], pos[:, 1]"
   ]
  },
  {
   "cell_type": "code",
   "execution_count": 339,
   "metadata": {},
   "outputs": [
    {
     "data": {
      "text/plain": [
       "TfidfVectorizer(analyzer='word', binary=False, decode_error='strict',\n",
       "        dtype=<class 'numpy.int64'>, encoding='utf-8', input='content',\n",
       "        lowercase=True, max_df=0.8, max_features=200000, min_df=0.2,\n",
       "        ngram_range=(1, 3), norm='l2', preprocessor=None, smooth_idf=True,\n",
       "        stop_words='english', strip_accents=None, sublinear_tf=False,\n",
       "        token_pattern='(?u)\\\\b\\\\w\\\\w+\\\\b',\n",
       "        tokenizer=<function full_clean at 0x7f9494a17c80>, use_idf=True,\n",
       "        vocabulary=None)"
      ]
     },
     "execution_count": 339,
     "metadata": {},
     "output_type": "execute_result"
    }
   ],
   "source": [
    "\n",
    " "
   ]
  },
  {
   "cell_type": "code",
   "execution_count": 338,
   "metadata": {},
   "outputs": [
    {
     "data": {
      "text/plain": [
       "'sherlock'"
      ]
     },
     "execution_count": 338,
     "metadata": {},
     "output_type": "execute_result"
    }
   ],
   "source": []
  },
  {
   "cell_type": "code",
   "execution_count": null,
   "metadata": {},
   "outputs": [],
   "source": []
  },
  {
   "cell_type": "code",
   "execution_count": 374,
   "metadata": {
    "collapsed": true
   },
   "outputs": [],
   "source": [
    "#set up colors per clusters using a dict\n",
    "cluster_colors = {0: '#1b9e77', 1: '#d95f02', 2: '#7570b3', 3: '#e7298a', 4:'#ff0000'}\n",
    "\n",
    "cluster_names = {}\n",
    "'''\n",
    "keys = range(len(clusterTerm))\n",
    "\n",
    "values = [\"Hi\", \"I\", \"am\", \"John\"]\n",
    "for i in keys:\n",
    "        dicts[i] = values[i]\n",
    "print(dicts)\n",
    "'''\n",
    "#set up cluster names using a dict\n",
    "cluster_names = {0: clusterTerm[0], \n",
    "                 1: clusterTerm[1], \n",
    "                 2: clusterTerm[2], \n",
    "                 3: clusterTerm[3], \n",
    "                 4: clusterTerm[4]}"
   ]
  },
  {
   "cell_type": "code",
   "execution_count": 375,
   "metadata": {
    "scrolled": false
   },
   "outputs": [
    {
     "name": "stderr",
     "output_type": "stream",
     "text": [
      "/home/kynan/anaconda3/lib/python3.6/site-packages/ipykernel_launcher.py:33: DeprecationWarning: \n",
      ".ix is deprecated. Please use\n",
      ".loc for label based indexing or\n",
      ".iloc for positional indexing\n",
      "\n",
      "See the documentation here:\n",
      "http://pandas.pydata.org/pandas-docs/stable/indexing.html#deprecate_ix\n"
     ]
    },
    {
     "data": {
      "image/png": "[encoded data removed]",
      "text/plain": [
       "<matplotlib.figure.Figure at 0x7f946fd015f8>"
      ]
     },
     "metadata": {},
     "output_type": "display_data"
    }
   ],
   "source": [
    "#create data frame that has the result of the MDS plus the cluster numbers and titles\n",
    "df = pd.DataFrame(dict(x=xs, y=ys, label=clusters, title=textName)) \n",
    "\n",
    "#group by cluster\n",
    "groups = df.groupby('label')\n",
    "\n",
    "\n",
    "# set up plot\n",
    "fig, ax = plt.subplots(figsize=(17, 9)) # set size\n",
    "ax.margins(0.05) # Optional, just adds 5% padding to the autoscaling\n",
    "\n",
    "#iterate through groups to layer the plot\n",
    "#note that I use the cluster_name and cluster_color dicts with the 'name' lookup to return the appropriate color/label\n",
    "for name, group in groups:\n",
    "    ax.plot(group.x, group.y, marker='o', linestyle='', ms=12, label=cluster_names[name], color=cluster_colors[name], mec='none')\n",
    "    ax.set_aspect('auto')\n",
    "    ax.tick_params(\\\n",
    "        axis= 'x',          # changes apply to the x-axis\n",
    "        which='both',      # both major and minor ticks are affected\n",
    "        bottom='off',      # ticks along the bottom edge are off\n",
    "        top='off',         # ticks along the top edge are off\n",
    "        labelbottom='off')\n",
    "    ax.tick_params(\\\n",
    "        axis= 'y',         # changes apply to the y-axis\n",
    "        which='both',      # both major and minor ticks are affected\n",
    "        left='off',      # ticks along the bottom edge are off\n",
    "        top='off',         # ticks along the top edge are off\n",
    "        labelleft='off')\n",
    "    \n",
    "ax.legend(numpoints=1)  #show legend with only 1 point\n",
    "\n",
    "\n",
    "#add label in x,y position with the label as the film title\n",
    "for i in range(len(df)):\n",
    "    ax.text(df.ix[i]['x'], df.ix[i]['y'], df.ix[i]['title'], size=8)  \n",
    "    \n",
    "    \n",
    "plt.show() #show the plot\n",
    "\n",
    "#uncomment the below to save the plot if need be\n",
    "#plt.savefig('clusters_small_noaxes.png', dpi=200)"
   ]
  },
  {
   "cell_type": "code",
   "execution_count": 376,
   "metadata": {},
   "outputs": [
    {
     "data": {
      "image/png": "[encoded data removed]",
      "text/plain": [
       "<matplotlib.figure.Figure at 0x7f94cabe44a8>"
      ]
     },
     "metadata": {},
     "output_type": "display_data"
    }
   ],
   "source": [
    "\n",
    "linkage_matrix = ward(dist) #define the linkage_matrix using ward clustering pre-computed distances\n",
    "\n",
    "fig, ax = plt.subplots(figsize=(15, 20)) # set size\n",
    "ax = dendrogram(linkage_matrix, orientation=\"right\", labels=textName);\n",
    "\n",
    "plt.tick_params(\\\n",
    "    axis= 'x',          # changes apply to the x-axis\n",
    "    which='both',      # both major and minor ticks are affected\n",
    "    bottom='off',      # ticks along the bottom edge are off\n",
    "    top='off',         # ticks along the top edge are off\n",
    "    labelbottom='off')\n",
    "\n",
    "plt.tight_layout() #show plot with tight layout\n",
    "\n",
    "#uncomment below to save figure\n",
    "plt.savefig('ward_clusters.png', dpi=200) #save figure as ward_clusters"
   ]
  },
  {
   "cell_type": "code",
   "execution_count": 377,
   "metadata": {},
   "outputs": [
    {
     "name": "stdout",
     "output_type": "stream",
     "text": [
      "CPU times: user 4min 7s, sys: 64 ms, total: 4min 7s\n",
      "Wall time: 4min 7s\n"
     ]
    }
   ],
   "source": [
    "%time preprocess_token = [full_clean(novel) for novel in textContent]\n"
   ]
  },
  {
   "cell_type": "code",
   "execution_count": 292,
   "metadata": {},
   "outputs": [],
   "source": [
    "dictionary = corpora.Dictionary(preprocess_token)\n",
    "dictionary.filter_extremes(no_below=1, no_above=0.8)\n",
    "corpus = [dictionary.doc2bow(text) for text in preprocess_token]\n"
   ]
  },
  {
   "cell_type": "code",
   "execution_count": 293,
   "metadata": {},
   "outputs": [
    {
     "name": "stdout",
     "output_type": "stream",
     "text": [
      "CPU times: user 17min 3s, sys: 12.4 s, total: 17min 16s\n",
      "Wall time: 10min 20s\n"
     ]
    }
   ],
   "source": [
    "%time lda = models.LdaModel(corpus, num_topics=5, id2word=dictionary, update_every=5, chunksize=10000, passes=100)\n",
    "\n",
    "\n",
    "\n",
    "topics = lda.print_topics(5, num_words=20)\n",
    "\n",
    "topics_matrix = lda.show_topics(formatted=False, num_words=20)"
   ]
  },
  {
   "cell_type": "code",
   "execution_count": 294,
   "metadata": {
    "scrolled": true
   },
   "outputs": [
    {
     "data": {
      "text/plain": [
       "[[(\"'i\", 0.01270292375831952),\n",
       "  ('doctor', 0.0039529953205880534),\n",
       "  ('beadl', 0.0029211509342497001),\n",
       "  ('em', 0.0024473285145153378),\n",
       "  ('ha', 0.0023666744059126937),\n",
       "  (\"ma'am\", 0.0023330636558504454),\n",
       "  ('yer', 0.0022743606616967417),\n",
       "  ('whi', 0.0020975081554781205),\n",
       "  ('to-night', 0.0020925824577995439),\n",
       "  ('coach', 0.0020770426554603378),\n",
       "  ('knit', 0.0018343379098040482),\n",
       "  ('murder', 0.0018028359343312688),\n",
       "  ('ca', 0.001802308943678016),\n",
       "  ('spi', 0.0018022488138421172),\n",
       "  ('madam', 0.001776320359876832),\n",
       "  ('wo', 0.0016847208215111558),\n",
       "  ('render', 0.0016604395761524958),\n",
       "  ('matron', 0.0016555735183881371),\n",
       "  ('wine-shop', 0.0015377761325414186),\n",
       "  ('passeng', 0.0015097152530867638)],\n",
       " [('musgrov', 0.0021142181279748618),\n",
       "  ('concert', 0.0016482586792677175),\n",
       "  ('tenant', 0.0010880398118636987),\n",
       "  ('uppercross', 0.0010740944781657371),\n",
       "  ('ann', 0.00090073610211351867),\n",
       "  ('navi', 0.00089716567339320687),\n",
       "  ('nut', 0.00086332212872829162),\n",
       "  ('surgeon', 0.00073838033442626756),\n",
       "  ('freckl', 0.00068860849994558651),\n",
       "  ('retrench', 0.00063968435778035402),\n",
       "  ('frigat', 0.00055400356231035514),\n",
       "  ('kellynch', 0.00055400356221649869),\n",
       "  ('mari', 0.00055400356210599767),\n",
       "  ('hedge-row', 0.00055175767196407851),\n",
       "  ('heir', 0.00054169272132946901),\n",
       "  ('nursery-maid', 0.000520719698240112),\n",
       "  ('stile', 0.00051294168919289464),\n",
       "  ('enquiri', 0.00050357197652090729),\n",
       "  ('curat', 0.00049418956260016082),\n",
       "  ('sand', 0.00049304471685285127)],\n",
       " [('guardian', 0.0037488586606826287),\n",
       "  ('em', 0.0023614885359310306),\n",
       "  ('river', 0.002119555799537817),\n",
       "  ('ha', 0.0017607298988424932),\n",
       "  ('anybodi', 0.001734904773045242),\n",
       "  ('retort', 0.0017326598524892104),\n",
       "  ('bird', 0.0016661708894840917),\n",
       "  ('boat', 0.0016099324397648739),\n",
       "  ('coach', 0.0015502131723468585),\n",
       "  ('ca', 0.0015154221127446608),\n",
       "  ('pipe', 0.0014867290953246817),\n",
       "  ('upstair', 0.0013896611217139492),\n",
       "  ('babi', 0.0013817584991770257),\n",
       "  ('bottl', 0.0013769945494833699),\n",
       "  ('murder', 0.0013256007196581639),\n",
       "  ('trooper', 0.0013103725474867144),\n",
       "  ('it.', 0.0012456974383984834),\n",
       "  ('stick', 0.0012151749774457186),\n",
       "  ('wooden', 0.0011884651784030067),\n",
       "  ('doctor', 0.0011655366320033917)],\n",
       " [('aunt', 0.0097022571093811055),\n",
       "  ('weri', 0.0030354946360286674),\n",
       "  ('it.', 0.0028135515597771258),\n",
       "  ('murder', 0.0025368420682260742),\n",
       "  ('ly', 0.0023956443042870666),\n",
       "  ('coach', 0.0021299922156012082),\n",
       "  ('em', 0.0020212185239636723),\n",
       "  ('moor', 0.0020063139672261555),\n",
       "  ('you.', 0.0018600180282152209),\n",
       "  ('ha', 0.0017386882915701697),\n",
       "  ('sir.', 0.0017292849310497028),\n",
       "  ('l', 0.0017036649782400939),\n",
       "  ('anyon', 0.0015598706386607177),\n",
       "  ('insid', 0.0014745847770465789),\n",
       "  ('doctor', 0.0014713057361886853),\n",
       "  ('waiter', 0.0014612414691451724),\n",
       "  ('polic', 0.0014335089986595277),\n",
       "  ('r', 0.0014304395525685837),\n",
       "  ('gen', 0.0013884978715868518),\n",
       "  ('parlour', 0.0013880168989734963)],\n",
       " [('aunt', 0.0068296732786230297),\n",
       "  ('it.', 0.0053289594674598654),\n",
       "  ('behaviour', 0.0037745966607279267),\n",
       "  ('sensibl', 0.0035904525308751625),\n",
       "  ('you.', 0.0034771742661634693),\n",
       "  ('everybodi', 0.003289972374902965),\n",
       "  ('prais', 0.0030379929376940016),\n",
       "  ('me.', 0.002941315807832932),\n",
       "  ('ball', 0.0027320977154346527),\n",
       "  ('anybodi', 0.0026945994173161389),\n",
       "  ('dearest', 0.0026025721555763487),\n",
       "  ('indulg', 0.0024723942142681919),\n",
       "  ('niec', 0.0023583293508192761),\n",
       "  ('shew', 0.0023128278539600541),\n",
       "  ('favourit', 0.0022797038966158537),\n",
       "  ('drawing-room', 0.0022527310585712932),\n",
       "  ('him.', 0.002240892793154186),\n",
       "  ('sincer', 0.0021914659644216815),\n",
       "  ('cottag', 0.0021203386581403715),\n",
       "  ('her.', 0.0021176134431283066)]]"
      ]
     },
     "execution_count": 294,
     "metadata": {},
     "output_type": "execute_result"
    }
   ],
   "source": [
    "topics = lda.print_topics(5, num_words=20)\n",
    "\n",
    "topics_matrix = lda.show_topics(formatted=False, num_words=20)\n",
    "topics_matrix = [item[1] for item in topics_matrix]\n",
    "topics_matrix"
   ]
  },
  {
   "cell_type": "code",
   "execution_count": 295,
   "metadata": {},
   "outputs": [
    {
     "name": "stdout",
     "output_type": "stream",
     "text": [
      "[\"'i\", 'doctor', 'beadl', 'em', 'ha', \"ma'am\", 'yer', 'whi', 'to-night', 'coach', 'knit', 'murder', 'ca', 'spi', 'madam', 'wo', 'render', 'matron', 'wine-shop', 'passeng']\n",
      "\n",
      "['musgrov', 'concert', 'tenant', 'uppercross', 'ann', 'navi', 'nut', 'surgeon', 'freckl', 'retrench', 'frigat', 'kellynch', 'mari', 'hedge-row', 'heir', 'nursery-maid', 'stile', 'enquiri', 'curat', 'sand']\n",
      "\n",
      "['guardian', 'em', 'river', 'ha', 'anybodi', 'retort', 'bird', 'boat', 'coach', 'ca', 'pipe', 'upstair', 'babi', 'bottl', 'murder', 'trooper', 'it.', 'stick', 'wooden', 'doctor']\n",
      "\n",
      "['aunt', 'weri', 'it.', 'murder', 'ly', 'coach', 'em', 'moor', 'you.', 'ha', 'sir.', 'l', 'anyon', 'insid', 'doctor', 'waiter', 'polic', 'r', 'gen', 'parlour']\n",
      "\n",
      "['aunt', 'it.', 'behaviour', 'sensibl', 'you.', 'everybodi', 'prais', 'me.', 'ball', 'anybodi', 'dearest', 'indulg', 'niec', 'shew', 'favourit', 'drawing-room', 'him.', 'sincer', 'cottag', 'her.']\n",
      "\n"
     ]
    }
   ],
   "source": [
    "topics_matrix = np.array(topics_matrix)\n",
    "\n",
    "topic_words = topics_matrix[:,:,0]\n",
    "\n",
    "for i in topic_words:\n",
    "    print([str(word) for word in i])\n",
    "    print()"
   ]
  },
  {
   "cell_type": "code",
   "execution_count": 388,
   "metadata": {},
   "outputs": [
    {
     "ename": "ValueError",
     "evalue": "too many values to unpack (expected 2)",
     "output_type": "error",
     "traceback": [
      "\u001b[0;31m---------------------------------------------------------------------------\u001b[0m",
      "\u001b[0;31mValueError\u001b[0m                                Traceback (most recent call last)",
      "\u001b[0;32m<ipython-input-388-f27a10ca52b2>\u001b[0m in \u001b[0;36m<module>\u001b[0;34m()\u001b[0m\n\u001b[0;32m----> 1\u001b[0;31m \u001b[0mprint\u001b[0m\u001b[0;34m(\u001b[0m\u001b[0mlda\u001b[0m\u001b[0;34m[\u001b[0m\u001b[0mtextContent\u001b[0m\u001b[0;34m]\u001b[0m\u001b[0;34m)\u001b[0m\u001b[0;34m\u001b[0m\u001b[0m\n\u001b[0m",
      "\u001b[0;32m/home/kynan/anaconda3/lib/python3.6/site-packages/gensim/models/ldamodel.py\u001b[0m in \u001b[0;36m__getitem__\u001b[0;34m(self, bow, eps)\u001b[0m\n\u001b[1;32m   1103\u001b[0m             \u001b[0;31m`\u001b[0m\u001b[0;34m(\u001b[0m\u001b[0mtopic_id\u001b[0m\u001b[0;34m,\u001b[0m \u001b[0mtopic_probability\u001b[0m\u001b[0;34m)\u001b[0m\u001b[0;31m`\u001b[0m \u001b[0;36m2\u001b[0m\u001b[0;34m-\u001b[0m\u001b[0mtuples\u001b[0m\u001b[0;34m.\u001b[0m\u001b[0;34m\u001b[0m\u001b[0m\n\u001b[1;32m   1104\u001b[0m         \"\"\"\n\u001b[0;32m-> 1105\u001b[0;31m         \u001b[0;32mreturn\u001b[0m \u001b[0mself\u001b[0m\u001b[0;34m.\u001b[0m\u001b[0mget_document_topics\u001b[0m\u001b[0;34m(\u001b[0m\u001b[0mbow\u001b[0m\u001b[0;34m,\u001b[0m \u001b[0meps\u001b[0m\u001b[0;34m,\u001b[0m \u001b[0mself\u001b[0m\u001b[0;34m.\u001b[0m\u001b[0mminimum_phi_value\u001b[0m\u001b[0;34m,\u001b[0m \u001b[0mself\u001b[0m\u001b[0;34m.\u001b[0m\u001b[0mper_word_topics\u001b[0m\u001b[0;34m)\u001b[0m\u001b[0;34m\u001b[0m\u001b[0m\n\u001b[0m\u001b[1;32m   1106\u001b[0m \u001b[0;34m\u001b[0m\u001b[0m\n\u001b[1;32m   1107\u001b[0m     \u001b[0;32mdef\u001b[0m \u001b[0msave\u001b[0m\u001b[0;34m(\u001b[0m\u001b[0mself\u001b[0m\u001b[0;34m,\u001b[0m \u001b[0mfname\u001b[0m\u001b[0;34m,\u001b[0m \u001b[0mignore\u001b[0m\u001b[0;34m=\u001b[0m\u001b[0;34m(\u001b[0m\u001b[0;34m'state'\u001b[0m\u001b[0;34m,\u001b[0m \u001b[0;34m'dispatcher'\u001b[0m\u001b[0;34m)\u001b[0m\u001b[0;34m,\u001b[0m \u001b[0mseparately\u001b[0m\u001b[0;34m=\u001b[0m\u001b[0;32mNone\u001b[0m\u001b[0;34m,\u001b[0m \u001b[0;34m*\u001b[0m\u001b[0margs\u001b[0m\u001b[0;34m,\u001b[0m \u001b[0;34m**\u001b[0m\u001b[0mkwargs\u001b[0m\u001b[0;34m)\u001b[0m\u001b[0;34m:\u001b[0m\u001b[0;34m\u001b[0m\u001b[0m\n",
      "\u001b[0;32m/home/kynan/anaconda3/lib/python3.6/site-packages/gensim/models/ldamodel.py\u001b[0m in \u001b[0;36mget_document_topics\u001b[0;34m(self, bow, minimum_probability, minimum_phi_value, per_word_topics)\u001b[0m\n\u001b[1;32m    944\u001b[0m             \u001b[0;32mreturn\u001b[0m \u001b[0mself\u001b[0m\u001b[0;34m.\u001b[0m\u001b[0m_apply\u001b[0m\u001b[0;34m(\u001b[0m\u001b[0mcorpus\u001b[0m\u001b[0;34m,\u001b[0m \u001b[0;34m**\u001b[0m\u001b[0mkwargs\u001b[0m\u001b[0;34m)\u001b[0m\u001b[0;34m\u001b[0m\u001b[0m\n\u001b[1;32m    945\u001b[0m \u001b[0;34m\u001b[0m\u001b[0m\n\u001b[0;32m--> 946\u001b[0;31m         \u001b[0mgamma\u001b[0m\u001b[0;34m,\u001b[0m \u001b[0mphis\u001b[0m \u001b[0;34m=\u001b[0m \u001b[0mself\u001b[0m\u001b[0;34m.\u001b[0m\u001b[0minference\u001b[0m\u001b[0;34m(\u001b[0m\u001b[0;34m[\u001b[0m\u001b[0mbow\u001b[0m\u001b[0;34m]\u001b[0m\u001b[0;34m,\u001b[0m \u001b[0mcollect_sstats\u001b[0m\u001b[0;34m=\u001b[0m\u001b[0mper_word_topics\u001b[0m\u001b[0;34m)\u001b[0m\u001b[0;34m\u001b[0m\u001b[0m\n\u001b[0m\u001b[1;32m    947\u001b[0m         \u001b[0mtopic_dist\u001b[0m \u001b[0;34m=\u001b[0m \u001b[0mgamma\u001b[0m\u001b[0;34m[\u001b[0m\u001b[0;36m0\u001b[0m\u001b[0;34m]\u001b[0m \u001b[0;34m/\u001b[0m \u001b[0msum\u001b[0m\u001b[0;34m(\u001b[0m\u001b[0mgamma\u001b[0m\u001b[0;34m[\u001b[0m\u001b[0;36m0\u001b[0m\u001b[0;34m]\u001b[0m\u001b[0;34m)\u001b[0m  \u001b[0;31m# normalize distribution\u001b[0m\u001b[0;34m\u001b[0m\u001b[0m\n\u001b[1;32m    948\u001b[0m \u001b[0;34m\u001b[0m\u001b[0m\n",
      "\u001b[0;32m/home/kynan/anaconda3/lib/python3.6/site-packages/gensim/models/ldamodel.py\u001b[0m in \u001b[0;36minference\u001b[0;34m(self, chunk, collect_sstats)\u001b[0m\n\u001b[1;32m    435\u001b[0m             \u001b[0;32mif\u001b[0m \u001b[0mlen\u001b[0m\u001b[0;34m(\u001b[0m\u001b[0mdoc\u001b[0m\u001b[0;34m)\u001b[0m \u001b[0;34m>\u001b[0m \u001b[0;36m0\u001b[0m \u001b[0;32mand\u001b[0m \u001b[0;32mnot\u001b[0m \u001b[0misinstance\u001b[0m\u001b[0;34m(\u001b[0m\u001b[0mdoc\u001b[0m\u001b[0;34m[\u001b[0m\u001b[0;36m0\u001b[0m\u001b[0;34m]\u001b[0m\u001b[0;34m[\u001b[0m\u001b[0;36m0\u001b[0m\u001b[0;34m]\u001b[0m\u001b[0;34m,\u001b[0m \u001b[0msix\u001b[0m\u001b[0;34m.\u001b[0m\u001b[0minteger_types\u001b[0m \u001b[0;34m+\u001b[0m \u001b[0;34m(\u001b[0m\u001b[0mnp\u001b[0m\u001b[0;34m.\u001b[0m\u001b[0minteger\u001b[0m\u001b[0;34m,\u001b[0m\u001b[0;34m)\u001b[0m\u001b[0;34m)\u001b[0m\u001b[0;34m:\u001b[0m\u001b[0;34m\u001b[0m\u001b[0m\n\u001b[1;32m    436\u001b[0m                 \u001b[0;31m# make sure the term IDs are ints, otherwise np will get upset\u001b[0m\u001b[0;34m\u001b[0m\u001b[0;34m\u001b[0m\u001b[0m\n\u001b[0;32m--> 437\u001b[0;31m                 \u001b[0mids\u001b[0m \u001b[0;34m=\u001b[0m \u001b[0;34m[\u001b[0m\u001b[0mint\u001b[0m\u001b[0;34m(\u001b[0m\u001b[0midx\u001b[0m\u001b[0;34m)\u001b[0m \u001b[0;32mfor\u001b[0m \u001b[0midx\u001b[0m\u001b[0;34m,\u001b[0m \u001b[0m_\u001b[0m \u001b[0;32min\u001b[0m \u001b[0mdoc\u001b[0m\u001b[0;34m]\u001b[0m\u001b[0;34m\u001b[0m\u001b[0m\n\u001b[0m\u001b[1;32m    438\u001b[0m             \u001b[0;32melse\u001b[0m\u001b[0;34m:\u001b[0m\u001b[0;34m\u001b[0m\u001b[0m\n\u001b[1;32m    439\u001b[0m                 \u001b[0mids\u001b[0m \u001b[0;34m=\u001b[0m \u001b[0;34m[\u001b[0m\u001b[0midx\u001b[0m \u001b[0;32mfor\u001b[0m \u001b[0midx\u001b[0m\u001b[0;34m,\u001b[0m \u001b[0m_\u001b[0m \u001b[0;32min\u001b[0m \u001b[0mdoc\u001b[0m\u001b[0;34m]\u001b[0m\u001b[0;34m\u001b[0m\u001b[0m\n",
      "\u001b[0;32m/home/kynan/anaconda3/lib/python3.6/site-packages/gensim/models/ldamodel.py\u001b[0m in \u001b[0;36m<listcomp>\u001b[0;34m(.0)\u001b[0m\n\u001b[1;32m    435\u001b[0m             \u001b[0;32mif\u001b[0m \u001b[0mlen\u001b[0m\u001b[0;34m(\u001b[0m\u001b[0mdoc\u001b[0m\u001b[0;34m)\u001b[0m \u001b[0;34m>\u001b[0m \u001b[0;36m0\u001b[0m \u001b[0;32mand\u001b[0m \u001b[0;32mnot\u001b[0m \u001b[0misinstance\u001b[0m\u001b[0;34m(\u001b[0m\u001b[0mdoc\u001b[0m\u001b[0;34m[\u001b[0m\u001b[0;36m0\u001b[0m\u001b[0;34m]\u001b[0m\u001b[0;34m[\u001b[0m\u001b[0;36m0\u001b[0m\u001b[0;34m]\u001b[0m\u001b[0;34m,\u001b[0m \u001b[0msix\u001b[0m\u001b[0;34m.\u001b[0m\u001b[0minteger_types\u001b[0m \u001b[0;34m+\u001b[0m \u001b[0;34m(\u001b[0m\u001b[0mnp\u001b[0m\u001b[0;34m.\u001b[0m\u001b[0minteger\u001b[0m\u001b[0;34m,\u001b[0m\u001b[0;34m)\u001b[0m\u001b[0;34m)\u001b[0m\u001b[0;34m:\u001b[0m\u001b[0;34m\u001b[0m\u001b[0m\n\u001b[1;32m    436\u001b[0m                 \u001b[0;31m# make sure the term IDs are ints, otherwise np will get upset\u001b[0m\u001b[0;34m\u001b[0m\u001b[0;34m\u001b[0m\u001b[0m\n\u001b[0;32m--> 437\u001b[0;31m                 \u001b[0mids\u001b[0m \u001b[0;34m=\u001b[0m \u001b[0;34m[\u001b[0m\u001b[0mint\u001b[0m\u001b[0;34m(\u001b[0m\u001b[0midx\u001b[0m\u001b[0;34m)\u001b[0m \u001b[0;32mfor\u001b[0m \u001b[0midx\u001b[0m\u001b[0;34m,\u001b[0m \u001b[0m_\u001b[0m \u001b[0;32min\u001b[0m \u001b[0mdoc\u001b[0m\u001b[0;34m]\u001b[0m\u001b[0;34m\u001b[0m\u001b[0m\n\u001b[0m\u001b[1;32m    438\u001b[0m             \u001b[0;32melse\u001b[0m\u001b[0;34m:\u001b[0m\u001b[0;34m\u001b[0m\u001b[0m\n\u001b[1;32m    439\u001b[0m                 \u001b[0mids\u001b[0m \u001b[0;34m=\u001b[0m \u001b[0;34m[\u001b[0m\u001b[0midx\u001b[0m \u001b[0;32mfor\u001b[0m \u001b[0midx\u001b[0m\u001b[0;34m,\u001b[0m \u001b[0m_\u001b[0m \u001b[0;32min\u001b[0m \u001b[0mdoc\u001b[0m\u001b[0;34m]\u001b[0m\u001b[0;34m\u001b[0m\u001b[0m\n",
      "\u001b[0;31mValueError\u001b[0m: too many values to unpack (expected 2)"
     ]
    }
   ],
   "source": [
    "print(lda[textContent])"
   ]
  },
  {
   "cell_type": "code",
   "execution_count": null,
   "metadata": {},
   "outputs": [],
   "source": []
  },
  {
   "cell_type": "code",
   "execution_count": null,
   "metadata": {
    "collapsed": true
   },
   "outputs": [],
   "source": []
  }
 ],
 "metadata": {
  "kernelspec": {
   "display_name": "Python 3",
   "language": "python",
   "name": "python3"
  },
  "language_info": {
   "codemirror_mode": {
    "name": "ipython",
    "version": 3
   },
   "file_extension": ".py",
   "mimetype": "text/x-python",
   "name": "python",
   "nbconvert_exporter": "python",
   "pygments_lexer": "ipython3",
   "version": "3.6.1"
  }
 },
 "nbformat": 4,
 "nbformat_minor": 2
}
