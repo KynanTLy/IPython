{
 "cells": [
  {
   "cell_type": "code",
   "execution_count": null,
   "metadata": {},
   "outputs": [],
   "source": [
    "import urllib.request\n",
    "\n",
    "# Get all URL into a list \n",
    "URL = ['http://www.gutenberg.org/files/98/98-0.txt',\n",
    " 'http://www.gutenberg.org/files/1400/1400-0.txt',\n",
    " 'http://www.gutenberg.org/cache/epub/46/pg46.txt',\n",
    " 'http://www.gutenberg.org/cache/epub/730/pg730.txt',\n",
    " 'http://www.gutenberg.org/files/766/766-0.txt']\n",
    "\n",
    "fullDialogue = \"\"\n",
    "\n",
    "\n",
    "\n",
    "#For every element in URL add it to fullDialogue\n",
    "for i in URL:\n",
    "    with urllib.request.urlopen(i) as response:\n",
    "        fullDialogue += (response.read().decode('utf-8'))\n",
    "\n",
    "\n",
    "file2Open = open('Charles Dickens.txt', \"w\")\n",
    "file2Open.write(fullDialogue)\n",
    "file2Open.close()        \n",
    "        \n",
    "print(len(fullDialogue))\n",
    "\n"
   ]
  },
  {
   "cell_type": "code",
   "execution_count": null,
   "metadata": {
    "collapsed": true
   },
   "outputs": [],
   "source": []
  }
 ],
 "metadata": {
  "kernelspec": {
   "display_name": "Python 3",
   "language": "python",
   "name": "python3"
  },
  "language_info": {
   "codemirror_mode": {
    "name": "ipython",
    "version": 3
   },
   "file_extension": ".py",
   "mimetype": "text/x-python",
   "name": "python",
   "nbconvert_exporter": "python",
   "pygments_lexer": "ipython3",
   "version": "3.6.1"
  }
 },
 "nbformat": 4,
 "nbformat_minor": 2
}
