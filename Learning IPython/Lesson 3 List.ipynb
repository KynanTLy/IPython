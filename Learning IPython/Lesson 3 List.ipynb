{
 "cells": [
  {
   "cell_type": "code",
   "execution_count": 2,
   "metadata": {},
   "outputs": [
    {
     "name": "stdout",
     "output_type": "stream",
     "text": [
      "All Soccer Ball are brings only woes\n"
     ]
    }
   ],
   "source": [
    "import random\n",
    "\n",
    "noun = [\n",
    "    \"Earth\",\n",
    "    \"Macbeth\",\n",
    "    \"University of Alberta\",\n",
    "    \"Beavers\",\n",
    "    \"Cellphone\",\n",
    "    \"Soccer Ball\"\n",
    "]\n",
    "\n",
    "adjective = [\n",
    "    \"great\",\n",
    "    \"terrible at sports\",\n",
    "    \"brings only woes\",\n",
    "    \"sleeps like a log\",\n",
    "    \"talked too loud\"\n",
    "]\n",
    "\n",
    "print(\"All \" + random.choice(noun) + \" are \" + random.choice(adjective))\n",
    "\n"
   ]
  },
  {
   "cell_type": "markdown",
   "metadata": {},
   "source": [
    "# Reading a text file and counting the words"
   ]
  },
  {
   "cell_type": "code",
   "execution_count": 3,
   "metadata": {
    "scrolled": true
   },
   "outputs": [
    {
     "ename": "FileNotFoundError",
     "evalue": "[Errno 2] No such file or directory: '/home/kynan/Desktop/HUCO 617/Intro/Lesson3TextInput.txt'",
     "output_type": "error",
     "traceback": [
      "\u001b[0;31m---------------------------------------------------------------------------\u001b[0m",
      "\u001b[0;31mFileNotFoundError\u001b[0m                         Traceback (most recent call last)",
      "\u001b[0;32m<ipython-input-3-f45822797704>\u001b[0m in \u001b[0;36m<module>\u001b[0;34m()\u001b[0m\n\u001b[1;32m      3\u001b[0m \u001b[0;31m#This find where the file is located\u001b[0m\u001b[0;34m\u001b[0m\u001b[0;34m\u001b[0m\u001b[0m\n\u001b[1;32m      4\u001b[0m \u001b[0;34m\u001b[0m\u001b[0m\n\u001b[0;32m----> 5\u001b[0;31m \u001b[0mtext_file\u001b[0m \u001b[0;34m=\u001b[0m \u001b[0mopen\u001b[0m\u001b[0;34m(\u001b[0m\u001b[0mpath\u001b[0m\u001b[0;34m,\u001b[0m\u001b[0;34m'r'\u001b[0m\u001b[0;34m)\u001b[0m\u001b[0;34m\u001b[0m\u001b[0m\n\u001b[0m\u001b[1;32m      6\u001b[0m \u001b[0;31m#This opens the file from the path and reads it. The 'r' means 'reads the files'\u001b[0m\u001b[0;34m\u001b[0m\u001b[0;34m\u001b[0m\u001b[0m\n\u001b[1;32m      7\u001b[0m \u001b[0;34m\u001b[0m\u001b[0m\n",
      "\u001b[0;31mFileNotFoundError\u001b[0m: [Errno 2] No such file or directory: '/home/kynan/Desktop/HUCO 617/Intro/Lesson3TextInput.txt'"
     ]
    }
   ],
   "source": [
    "path = '/home/kynan/Desktop/HUCO 617/Intro/Lesson3TextInput.txt'\n",
    "from collections import Counter\n",
    "#This find where the file is located\n",
    "\n",
    "text_file = open(path,'r')\n",
    "#This opens the file from the path and reads it. The 'r' means 'reads the files'\n",
    "\n",
    "words = text_file.read().split()\n",
    "#Read the file and divide the words using split. Then save the results into the variable words\n",
    "\n",
    "theCounts = Counter(words)\n",
    "#Counts all the words in the variable \"words\"\n",
    "\n",
    "print(theCounts.most_common(10))\n",
    "#Print the 10 most common words\n"
   ]
  },
  {
   "cell_type": "code",
   "execution_count": null,
   "metadata": {
    "collapsed": true
   },
   "outputs": [],
   "source": []
  }
 ],
 "metadata": {
  "kernelspec": {
   "display_name": "Python 3",
   "language": "python",
   "name": "python3"
  },
  "language_info": {
   "codemirror_mode": {
    "name": "ipython",
    "version": 3
   },
   "file_extension": ".py",
   "mimetype": "text/x-python",
   "name": "python",
   "nbconvert_exporter": "python",
   "pygments_lexer": "ipython3",
   "version": "3.6.1"
  }
 },
 "nbformat": 4,
 "nbformat_minor": 2
}
