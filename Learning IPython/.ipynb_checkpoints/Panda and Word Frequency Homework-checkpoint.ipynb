{
 "cells": [
  {
   "cell_type": "markdown",
   "metadata": {},
   "source": [
    "Importing all the required libraries"
   ]
  },
  {
   "cell_type": "code",
   "execution_count": 20,
   "metadata": {
    "collapsed": true
   },
   "outputs": [],
   "source": [
    "import glob, re, os, collections\n",
    "import matplotlib.pyplot as plt\n",
    "import nltk\n",
    "import pandas as pd\n",
    "from sklearn.decomposition import PCA\n",
    "\n",
    "# make sure that graphs are embedded into our notebook output\n",
    "%matplotlib inline"
   ]
  },
  {
   "cell_type": "markdown",
   "metadata": {},
   "source": [
    "Saving all the text from inside the directory"
   ]
  },
  {
   "cell_type": "code",
   "execution_count": 26,
   "metadata": {},
   "outputs": [],
   "source": [
    "directory = \"./CD\"\n",
    "\n",
    "# this dictionary will track our frequencies\n",
    "docs = {}\n",
    "\n",
    "# go through each txt file in the directory \n",
    "for file in glob.glob(directory + \"/*.txt\"):\n",
    "    \n",
    "    # read file as Latin 1 (remove encoding for UTF-8)\n",
    "    with open(file, encoding=\"ISO-8859-1\") as f:\n",
    "        text = f.read();\n",
    "        \n",
    "        # tokenize\n",
    "        tokens = re.findall(r'\\b\\w[\\w-]*\\b', text.lower())\n",
    "        count = len(tokens)\n",
    "        \n",
    "        # convert to relative freqs\n",
    "        relativefreqs = {}\n",
    "        localfreqs = collections.Counter(tokens) # creates a data structure of words and counts\n",
    "        \n",
    "        for word, wordcount in localfreqs.items():\n",
    "            \n",
    "            # gather only words with alphabetical characters, discard numbers\n",
    "            if word.isalpha():\n",
    "                relativefreqs[word] = wordcount/count\n",
    "            \n",
    "        # add this document's relative freqs to our dictionary of all docs\n",
    "        docs[os.path.basename(file)] = relativefreqs\n",
    "\n",
    "# Convert frequency to dataframe\n",
    "df = pd.DataFrame(docs)\n",
    "\n",
    "# Replace all Nan with 0\n",
    "df.fillna(0, inplace=True)\n",
    "\n",
    "# Transpose the data so books are on the y axis\n",
    "df = df.transpose()\n",
    "\n",
    "# Writing to csv\n",
    "df.to_csv(\"Frequency.csv\", na_rep=0) \n"
   ]
  },
  {
   "cell_type": "markdown",
   "metadata": {},
   "source": [
    "# Loading the csv and its manipluation"
   ]
  },
  {
   "cell_type": "code",
   "execution_count": 45,
   "metadata": {},
   "outputs": [
    {
     "data": {
      "text/html": [
       "<div>\n",
       "<style>\n",
       "    .dataframe thead tr:only-child th {\n",
       "        text-align: right;\n",
       "    }\n",
       "\n",
       "    .dataframe thead th {\n",
       "        text-align: left;\n",
       "    }\n",
       "\n",
       "    .dataframe tbody tr th {\n",
       "        vertical-align: top;\n",
       "    }\n",
       "</style>\n",
       "<table border=\"1\" class=\"dataframe\">\n",
       "  <thead>\n",
       "    <tr style=\"text-align: right;\">\n",
       "      <th></th>\n",
       "      <th>Text</th>\n",
       "      <th>a</th>\n",
       "      <th>aback</th>\n",
       "      <th>abandon</th>\n",
       "      <th>abandoned</th>\n",
       "      <th>abandoning</th>\n",
       "      <th>abandonment</th>\n",
       "      <th>abase</th>\n",
       "      <th>abased</th>\n",
       "      <th>abashed</th>\n",
       "      <th>...</th>\n",
       "      <th>youths</th>\n",
       "      <th>youthâ</th>\n",
       "      <th>youâ</th>\n",
       "      <th>z</th>\n",
       "      <th>zeal</th>\n",
       "      <th>zealous</th>\n",
       "      <th>zenith</th>\n",
       "      <th>zest</th>\n",
       "      <th>zip</th>\n",
       "      <th>â</th>\n",
       "    </tr>\n",
       "  </thead>\n",
       "  <tbody>\n",
       "    <tr>\n",
       "      <th>0</th>\n",
       "      <td>Christmas Carol 1843.txt</td>\n",
       "      <td>0.023723</td>\n",
       "      <td>0.000000</td>\n",
       "      <td>0.000000</td>\n",
       "      <td>0.000000</td>\n",
       "      <td>0.000000</td>\n",
       "      <td>0.000000</td>\n",
       "      <td>0.000000</td>\n",
       "      <td>0.000000</td>\n",
       "      <td>0.000000</td>\n",
       "      <td>...</td>\n",
       "      <td>0.000000</td>\n",
       "      <td>0.000000</td>\n",
       "      <td>0.000000</td>\n",
       "      <td>0.000000</td>\n",
       "      <td>0.000031</td>\n",
       "      <td>0.000000</td>\n",
       "      <td>0.000000</td>\n",
       "      <td>0.000000</td>\n",
       "      <td>0.000031</td>\n",
       "      <td>0.000000</td>\n",
       "    </tr>\n",
       "    <tr>\n",
       "      <th>1</th>\n",
       "      <td>Great Expectations 1861.txt</td>\n",
       "      <td>0.020563</td>\n",
       "      <td>0.000005</td>\n",
       "      <td>0.000000</td>\n",
       "      <td>0.000010</td>\n",
       "      <td>0.000000</td>\n",
       "      <td>0.000000</td>\n",
       "      <td>0.000000</td>\n",
       "      <td>0.000005</td>\n",
       "      <td>0.000005</td>\n",
       "      <td>...</td>\n",
       "      <td>0.000000</td>\n",
       "      <td>0.000005</td>\n",
       "      <td>0.000630</td>\n",
       "      <td>0.000005</td>\n",
       "      <td>0.000010</td>\n",
       "      <td>0.000010</td>\n",
       "      <td>0.000000</td>\n",
       "      <td>0.000005</td>\n",
       "      <td>0.000005</td>\n",
       "      <td>0.040456</td>\n",
       "    </tr>\n",
       "    <tr>\n",
       "      <th>2</th>\n",
       "      <td>Oliver Twist 1839.txt</td>\n",
       "      <td>0.023150</td>\n",
       "      <td>0.000000</td>\n",
       "      <td>0.000006</td>\n",
       "      <td>0.000006</td>\n",
       "      <td>0.000000</td>\n",
       "      <td>0.000000</td>\n",
       "      <td>0.000006</td>\n",
       "      <td>0.000000</td>\n",
       "      <td>0.000000</td>\n",
       "      <td>...</td>\n",
       "      <td>0.000006</td>\n",
       "      <td>0.000000</td>\n",
       "      <td>0.000000</td>\n",
       "      <td>0.000006</td>\n",
       "      <td>0.000000</td>\n",
       "      <td>0.000012</td>\n",
       "      <td>0.000006</td>\n",
       "      <td>0.000000</td>\n",
       "      <td>0.000006</td>\n",
       "      <td>0.000000</td>\n",
       "    </tr>\n",
       "    <tr>\n",
       "      <th>3</th>\n",
       "      <td>Tales of Two Cities 1859.txt</td>\n",
       "      <td>0.020459</td>\n",
       "      <td>0.000007</td>\n",
       "      <td>0.000007</td>\n",
       "      <td>0.000069</td>\n",
       "      <td>0.000007</td>\n",
       "      <td>0.000007</td>\n",
       "      <td>0.000000</td>\n",
       "      <td>0.000000</td>\n",
       "      <td>0.000007</td>\n",
       "      <td>...</td>\n",
       "      <td>0.000007</td>\n",
       "      <td>0.000000</td>\n",
       "      <td>0.000185</td>\n",
       "      <td>0.000000</td>\n",
       "      <td>0.000000</td>\n",
       "      <td>0.000014</td>\n",
       "      <td>0.000000</td>\n",
       "      <td>0.000000</td>\n",
       "      <td>0.000007</td>\n",
       "      <td>0.039827</td>\n",
       "    </tr>\n",
       "  </tbody>\n",
       "</table>\n",
       "<p>4 rows × 17742 columns</p>\n",
       "</div>"
      ],
      "text/plain": [
       "                           Text         a     aback   abandon  abandoned  \\\n",
       "0      Christmas Carol 1843.txt  0.023723  0.000000  0.000000   0.000000   \n",
       "1   Great Expectations 1861.txt  0.020563  0.000005  0.000000   0.000010   \n",
       "2         Oliver Twist 1839.txt  0.023150  0.000000  0.000006   0.000006   \n",
       "3  Tales of Two Cities 1859.txt  0.020459  0.000007  0.000007   0.000069   \n",
       "\n",
       "   abandoning  abandonment     abase    abased   abashed    ...       youths  \\\n",
       "0    0.000000     0.000000  0.000000  0.000000  0.000000    ...     0.000000   \n",
       "1    0.000000     0.000000  0.000000  0.000005  0.000005    ...     0.000000   \n",
       "2    0.000000     0.000000  0.000006  0.000000  0.000000    ...     0.000006   \n",
       "3    0.000007     0.000007  0.000000  0.000000  0.000007    ...     0.000007   \n",
       "\n",
       "     youthâ      youâ         z      zeal   zealous    zenith      zest  \\\n",
       "0  0.000000  0.000000  0.000000  0.000031  0.000000  0.000000  0.000000   \n",
       "1  0.000005  0.000630  0.000005  0.000010  0.000010  0.000000  0.000005   \n",
       "2  0.000000  0.000000  0.000006  0.000000  0.000012  0.000006  0.000000   \n",
       "3  0.000000  0.000185  0.000000  0.000000  0.000014  0.000000  0.000000   \n",
       "\n",
       "        zip         â  \n",
       "0  0.000031  0.000000  \n",
       "1  0.000005  0.040456  \n",
       "2  0.000006  0.000000  \n",
       "3  0.000007  0.039827  \n",
       "\n",
       "[4 rows x 17742 columns]"
      ]
     },
     "execution_count": 45,
     "metadata": {},
     "output_type": "execute_result"
    }
   ],
   "source": [
    "# Read the csv\n",
    "df = pd.read_csv('Frequency.csv') \n",
    "\n",
    "# Insert a name for the 1st column\n",
    "df.rename(columns={'Unnamed: 0': 'Text'}, inplace=True) \n",
    "df.head(10)"
   ]
  },
  {
   "cell_type": "code",
   "execution_count": 43,
   "metadata": {},
   "outputs": [
    {
     "name": "stdout",
     "output_type": "stream",
     "text": [
      "[ 0.8775207  0.1224793]\n"
     ]
    }
   ],
   "source": [
    "\n",
    "\n",
    "words = [\"violence\", \"death\"]\n",
    "\n",
    "df2 = df.ix[1:,words]\n",
    "\n",
    "# Get top 3 principle component\n",
    "pca = PCA(n_components= 3)\n",
    "\n",
    "pca.fit(df2) \n",
    "\n",
    "X = pca.transform(df2)\n",
    "\n",
    "print(pca.explained_variance_ratio_)\n"
   ]
  },
  {
   "cell_type": "markdown",
   "metadata": {},
   "source": [
    "# Graphing the PCA"
   ]
  },
  {
   "cell_type": "code",
   "execution_count": 44,
   "metadata": {},
   "outputs": [
    {
     "data": {
      "image/png": "[encoded data removed]",
      "text/plain": [
       "<matplotlib.figure.Figure at 0x7f241ac384e0>"
      ]
     },
     "metadata": {},
     "output_type": "display_data"
    }
   ],
   "source": [
    "xAxisComp = 0\n",
    "yAxisComp = 1\n",
    "labels = df['Text'].tolist()\n",
    "\n",
    "# Apply scatter plot\n",
    "plt.figure(figsize=(16, 16))\n",
    "plt.scatter(X[:,xAxisComp],X[:,yAxisComp],marker='o',\n",
    "            color='r',\n",
    "            alpha=0.7,\n",
    "            s = 300,\n",
    "            )\n",
    "\n",
    "# Label the nodes in the graph\n",
    "for label, x, y in zip(labels, X[:,xAxisComp],X[:,yAxisComp]):\n",
    "    plt.annotate(\n",
    "        label, \n",
    "        xy = (x, y), xytext = (-5, 5),\n",
    "        textcoords = 'offset points', ha = 'right', va = 'bottom',\n",
    "        )\n",
    "\n",
    "plt.show()"
   ]
  },
  {
   "cell_type": "code",
   "execution_count": null,
   "metadata": {
    "collapsed": true
   },
   "outputs": [],
   "source": []
  }
 ],
 "metadata": {
  "kernelspec": {
   "display_name": "Python 3",
   "language": "python",
   "name": "python3"
  },
  "language_info": {
   "codemirror_mode": {
    "name": "ipython",
    "version": 3
   },
   "file_extension": ".py",
   "mimetype": "text/x-python",
   "name": "python",
   "nbconvert_exporter": "python",
   "pygments_lexer": "ipython3",
   "version": "3.6.1"
  }
 },
 "nbformat": 4,
 "nbformat_minor": 2
}
