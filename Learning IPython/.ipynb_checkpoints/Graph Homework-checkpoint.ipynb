{
 "cells": [
  {
   "cell_type": "markdown",
   "metadata": {},
   "source": [
    "Importing required libraries"
   ]
  },
  {
   "cell_type": "code",
   "execution_count": 118,
   "metadata": {
    "collapsed": true
   },
   "outputs": [],
   "source": [
    "import matplotlib.pyplot as plt\n",
    "import nltk\n",
    "\n",
    "# make sure that graphs are embedded into our notebook output\n",
    "%matplotlib inline"
   ]
  },
  {
   "cell_type": "markdown",
   "metadata": {},
   "source": [
    "Gathering the text and removing stop words"
   ]
  },
  {
   "cell_type": "code",
   "execution_count": 119,
   "metadata": {
    "collapsed": true
   },
   "outputs": [],
   "source": [
    "#Text Path\n",
    "textpath = \"./Charles Dickens.txt\"\n",
    "\n",
    "#Open file\n",
    "with open(textpath, \"r\") as file:\n",
    "    text = file.read().lower()\n",
    "\n",
    "    \n",
    "listofToken = nltk.word_tokenize(text)\n",
    "\n",
    "theText = nltk.Text(listofToken)\n",
    "\n",
    "#Parse for only words\n",
    "theText = [token for token in theText if token[0].isalpha()]\n",
    "\n",
    "stopwords = nltk.corpus.stopwords.words(\"english\")\n",
    "\n",
    "#Remove the stop words from the list\n",
    "theText = [token for token in theText if token not in stopwords]"
   ]
  },
  {
   "cell_type": "markdown",
   "metadata": {},
   "source": [
    "Trying to match different frequncy in a plot"
   ]
  },
  {
   "cell_type": "code",
   "execution_count": 120,
   "metadata": {},
   "outputs": [
    {
     "name": "stdout",
     "output_type": "stream",
     "text": [
      "  said    mr.  would    one little   upon  could   know    old   time    man   much  never   miss   like \n",
      "  6412   4763   2476   2417   2072   2062   1995   1767   1645   1644   1453   1378   1378   1374   1354 \n"
     ]
    },
    {
     "data": {
      "image/png": "[encoded data removed]",
      "text/plain": [
       "<matplotlib.figure.Figure at 0x7f8735f4a0b8>"
      ]
     },
     "metadata": {},
     "output_type": "display_data"
    }
   ],
   "source": [
    "#Find the frequency distribution\n",
    "NewFreqs = nltk.FreqDist(theText)\n",
    "\n",
    "#Display the first 25 result in a tab form\n",
    "NewFreqs.tabulate(15)\n",
    "\n",
    "#Plot the first 25 results\n",
    "NewFreqs.plot(15, title=\"Top words in Charles Dickens\")\n"
   ]
  },
  {
   "cell_type": "markdown",
   "metadata": {},
   "source": [
    "Now trying ot match frequency of different words and in terms of Mr. and main characters"
   ]
  },
  {
   "cell_type": "code",
   "execution_count": 121,
   "metadata": {},
   "outputs": [
    {
     "data": {
      "image/png": "[encoded data removed]",
      "text/plain": [
       "<matplotlib.figure.Figure at 0x7f87370fc860>"
      ]
     },
     "metadata": {},
     "output_type": "display_data"
    }
   ],
   "source": [
    "theText = nltk.Text(theText)\n",
    "theText.dispersion_plot([\"darnay\", \"carton\", \"jarvis\", \"manette\"])\n"
   ]
  },
  {
   "cell_type": "markdown",
   "metadata": {},
   "source": [
    "Dividing it into sections for a better picture"
   ]
  },
  {
   "cell_type": "code",
   "execution_count": 122,
   "metadata": {},
   "outputs": [
    {
     "name": "stdout",
     "output_type": "stream",
     "text": [
      "406699\n",
      "81339\n",
      "Starting search with mr.\n",
      "\n",
      "Added 717 for word mr. section 0\n",
      "Added 581 for word mr. section 1\n",
      "Added 1060 for word mr. section 2\n",
      "Added 1318 for word mr. section 3\n",
      "Added 1087 for word mr. section 4\n",
      "Starting search with darnay\n",
      "\n",
      "Added 145 for word darnay section 0\n",
      "Added 0 for word darnay section 1\n",
      "Added 0 for word darnay section 2\n",
      "Added 0 for word darnay section 3\n",
      "Added 0 for word darnay section 4\n",
      "Starting search with carton\n",
      "\n",
      "Added 154 for word carton section 0\n",
      "Added 0 for word carton section 1\n",
      "Added 0 for word carton section 2\n",
      "Added 0 for word carton section 3\n",
      "Added 0 for word carton section 4\n",
      "Starting search with jarvis\n",
      "\n",
      "Added 19 for word jarvis section 0\n",
      "Added 0 for word jarvis section 1\n",
      "Added 0 for word jarvis section 2\n",
      "Added 0 for word jarvis section 3\n",
      "Added 0 for word jarvis section 4\n",
      "Starting search with manette\n",
      "\n",
      "Added 159 for word manette section 0\n",
      "Added 0 for word manette section 1\n",
      "Added 0 for word manette section 2\n",
      "Added 0 for word manette section 3\n",
      "Added 0 for word manette section 4\n",
      "\n",
      "\n",
      "[[717, 581, 1060, 1318, 1087], [145, 0, 0, 0, 0], [154, 0, 0, 0, 0], [19, 0, 0, 0, 0], [159, 0, 0, 0, 0]]\n"
     ]
    }
   ],
   "source": [
    "numWords = len(theText)\n",
    "sections = 5\n",
    "numSectWords = int(numWords/sections)\n",
    "\n",
    "print(numWords)\n",
    "print(numSectWords)\n",
    "\n",
    "ListofWords = [\"mr.\", \"darnay\",\"carton\",\"jarvis\",\"manette\"]\n",
    "\n",
    "freqsOfWord = [[],[],[],[],[]] # This is the list for the frequencies for each section\n",
    "count = 0\n",
    "for word in ListofWords:\n",
    "    print(\"Starting search with \" + word + \"\\n\")\n",
    "    for n in range(5):\n",
    "        startSearch = n * numSectWords # Calculate the index of the start of the section\n",
    "        stopSearch = startSearch + numSectWords - 1 # Calculate the end of the section\n",
    "        # Get the frequency of the word in the section and append to list\n",
    "        freqsOfWord[count].append(theText[startSearch:stopSearch].count(word)) \n",
    "        print(\"Added \" + str(theText[startSearch:stopSearch].count(word)) + \" for word \" + word + \" section \" + str(n))\n",
    "    count += 1\n",
    "\n",
    "# Here we check the list\n",
    "print(\"\\n\")\n",
    "print(freqsOfWord)\n"
   ]
  },
  {
   "cell_type": "markdown",
   "metadata": {},
   "source": [
    "Graphing the results"
   ]
  },
  {
   "cell_type": "code",
   "execution_count": 123,
   "metadata": {},
   "outputs": [
    {
     "data": {
      "image/png": "[encoded data removed]",
      "text/plain": [
       "<matplotlib.figure.Figure at 0x7f8736ad7f60>"
      ]
     },
     "metadata": {},
     "output_type": "display_data"
    }
   ],
   "source": [
    "#plt.plot(freqsOfWord[0])\n",
    "plt.plot(freqsOfWord[1])\n",
    "plt.plot(freqsOfWord[2])\n",
    "plt.plot(freqsOfWord[3])\n",
    "plt.plot(freqsOfWord[4])\n",
    "\n",
    "plt.xlabel('Sections') # X Axis Label\n",
    "plt.ylabel('Frequencies') # Y Axis Label\n",
    "plt.title('Trend Graph') # Plot Title\n",
    "\n",
    "\n",
    "plt.show() # Show the plot."
   ]
  },
  {
   "cell_type": "markdown",
   "metadata": {},
   "source": [
    "Historgram"
   ]
  },
  {
   "cell_type": "code",
   "execution_count": 124,
   "metadata": {},
   "outputs": [
    {
     "data": {
      "image/png": "[encoded data removed]",
      "text/plain": [
       "<matplotlib.figure.Figure at 0x7f8737123588>"
      ]
     },
     "metadata": {},
     "output_type": "display_data"
    }
   ],
   "source": [
    "#plt.plot(freqsOfWord[0])\n",
    "plt.hist((freqsOfWord[1],freqsOfWord[2],freqsOfWord[3],freqsOfWord[4]), bins=5)\n",
    "\n",
    "plt.show() # Show the plot."
   ]
  },
  {
   "cell_type": "markdown",
   "metadata": {},
   "source": [
    "Covert to function"
   ]
  },
  {
   "cell_type": "code",
   "execution_count": 125,
   "metadata": {},
   "outputs": [],
   "source": [
    "def wordPerSection(theText, word, numSection):\n",
    "    freqsOfWord = []\n",
    "    for n in range(numSection):\n",
    "        startSearch = n * numSectWords # Calculate the index of the start of the section\n",
    "        stopSearch = startSearch + numSectWords - 1 # Calculate the end of the section\n",
    "        # Get the frequency of the word in the section and append to list\n",
    "        freqsOfWord.append(theText[startSearch:stopSearch].count(word)) \n",
    "    return freqsOfWord"
   ]
  },
  {
   "cell_type": "markdown",
   "metadata": {},
   "source": [
    "Trying the function results "
   ]
  },
  {
   "cell_type": "code",
   "execution_count": 126,
   "metadata": {},
   "outputs": [
    {
     "name": "stdout",
     "output_type": "stream",
     "text": [
      "[0, 0, 0, 0, 0]\n"
     ]
    }
   ],
   "source": [
    "print(wordPerSection(theText, \"carton\", 5))"
   ]
  },
  {
   "cell_type": "code",
   "execution_count": 128,
   "metadata": {},
   "outputs": [
    {
     "data": {
      "image/png": "[encoded data removed]",
      "text/plain": [
       "<matplotlib.figure.Figure at 0x7f8736552748>"
      ]
     },
     "metadata": {},
     "output_type": "display_data"
    }
   ],
   "source": [
    "import numpy as np\n",
    "\n",
    "Frequency = wordPerSection(theText, \"darnay\", 5)\n",
    "Frequency2 = wordPerSection(theText, \"carton\", 5)\n",
    "Frequency3 = wordPerSection(theText, \"jarvis\", 5)\n",
    "Frequency4 = wordPerSection(theText, \"manette\", 5)\n",
    "\n",
    "index = np.arange(5)\n",
    "ax =plt.subplot(111)\n",
    "\n",
    "ax.bar(index-0.2,Frequency, width=0.2,align='center')\n",
    "ax.bar(index,Frequency2, width=0.2,align='center')\n",
    "ax.bar(index+0.2,Frequency3, width=0.2,align='center')\n",
    "ax.bar(index+0.4,Frequency4, width=0.2,align='center')\n",
    "\n",
    "\n",
    "plt.show()\n",
    "\n",
    "\n",
    "\n"
   ]
  },
  {
   "cell_type": "code",
   "execution_count": null,
   "metadata": {
    "collapsed": true
   },
   "outputs": [],
   "source": []
  }
 ],
 "metadata": {
  "kernelspec": {
   "display_name": "Python 3",
   "language": "python",
   "name": "python3"
  },
  "language_info": {
   "codemirror_mode": {
    "name": "ipython",
    "version": 3
   },
   "file_extension": ".py",
   "mimetype": "text/x-python",
   "name": "python",
   "nbconvert_exporter": "python",
   "pygments_lexer": "ipython3",
   "version": "3.6.1"
  }
 },
 "nbformat": 4,
 "nbformat_minor": 2
}
