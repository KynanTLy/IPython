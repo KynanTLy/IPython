{
 "cells": [
  {
   "cell_type": "markdown",
   "metadata": {},
   "source": [
    "## Import the library"
   ]
  },
  {
   "cell_type": "code",
   "execution_count": 13,
   "metadata": {
    "collapsed": true
   },
   "outputs": [],
   "source": [
    "from nltk.tokenize import sent_tokenize\n",
    "import re\n",
    "import matplotlib.pyplot as plt\n",
    "import numpy as np\n",
    "\n",
    "# make sure that graphs are embedded into our notebook output\n",
    "%matplotlib inline"
   ]
  },
  {
   "cell_type": "markdown",
   "metadata": {},
   "source": [
    "## Function to tokenize sentences"
   ]
  },
  {
   "cell_type": "code",
   "execution_count": 37,
   "metadata": {},
   "outputs": [
    {
     "name": "stdout",
     "output_type": "stream",
     "text": [
      "Help on function sent_tokenize in module nltk.tokenize:\n",
      "\n",
      "sent_tokenize(text, language='english')\n",
      "    Return a sentence-tokenized copy of *text*,\n",
      "    using NLTK's recommended sentence tokenizer\n",
      "    (currently :class:`.PunktSentenceTokenizer`\n",
      "    for the specified language).\n",
      "    \n",
      "    :param text: text to split into sentences\n",
      "    :param language: the model name in the Punkt corpus\n",
      "\n"
     ]
    }
   ],
   "source": [
    "# Tokenize the text into sentences\n",
    "def tokenSentences(textIn):\n",
    "    theSentences = sent_tokenize(textIn)\n",
    "    return theSentences\n",
    "\n",
    "#Tokenize for each word\n",
    "def tokenizer(txt2Token): # Function for tokenizing\n",
    "    theTokens = re.findall(r'\\b\\w[\\w-]*\\b', txt2Token.lower())\n",
    "    return theTokens\n"
   ]
  },
  {
   "cell_type": "markdown",
   "metadata": {},
   "source": [
    "## Create dataset to try on"
   ]
  },
  {
   "cell_type": "code",
   "execution_count": 15,
   "metadata": {
    "collapsed": true
   },
   "outputs": [],
   "source": [
    "theText = \"No food is good food. Ha. I'm on a diet and the food is awful and lame.\"\n",
    "positiveWords=['awesome','good','nice','super','fun','delightful']\n",
    "negativeWords=['awful','lame','horrible','bad']"
   ]
  },
  {
   "cell_type": "markdown",
   "metadata": {},
   "source": [
    "## Creating Assoication of words"
   ]
  },
  {
   "cell_type": "code",
   "execution_count": 16,
   "metadata": {
    "collapsed": true
   },
   "outputs": [],
   "source": [
    "# Function that counts how many target words are in a list of tokens\n",
    "def countSentimentalTokens(listOfTokens,listOfTargetWords):\n",
    "    numTargetWords = 0\n",
    "    matchedWords = []\n",
    "    # Iterate through each token\n",
    "    for token in listOfTokens:\n",
    "        # If the token is part of the list of words we are looking for add and increment\n",
    "        if token in listOfTargetWords: \n",
    "            numTargetWords += 1\n",
    "            matchedWords.append(token)\n",
    "    return numTargetWords, matchedWords # Note that we are returning a tuple (2 values)"
   ]
  },
  {
   "cell_type": "markdown",
   "metadata": {},
   "source": [
    "## Calculating the percentage of postive and negative words"
   ]
  },
  {
   "cell_type": "code",
   "execution_count": 17,
   "metadata": {
    "collapsed": true
   },
   "outputs": [],
   "source": [
    "def calculatePercent(listOfTokens,positiveList,negativeList):\n",
    "    # Get the total amount of words\n",
    "    numWords = len(listOfTokens) \n",
    "    \n",
    "    # Calculate postive words percent\n",
    "    positiveMatches = countSentimentalTokens(listOfTokens,positiveList) \n",
    "    percntPos = positiveMatches[0] / numWords \n",
    "    \n",
    "    # Calculate negative words percent\n",
    "    negativeMatches = countSentimentalTokens(listOfTokens,negativeList)\n",
    "    percntNeg = negativeMatches[0] / numWords \n",
    "\n",
    "    # Return the result of both postive and negative percent\n",
    "    return percntPos, percntNeg "
   ]
  },
  {
   "cell_type": "markdown",
   "metadata": {},
   "source": [
    "## Calculate the overall sentiment"
   ]
  },
  {
   "cell_type": "code",
   "execution_count": 18,
   "metadata": {
    "collapsed": true
   },
   "outputs": [],
   "source": [
    "def calculateSentiment(percntPos,percntNeg):\n",
    "    sentiment = percntPos - percntNeg # Subtract the percentage of negative words from positive words\n",
    "    return sentiment"
   ]
  },
  {
   "cell_type": "markdown",
   "metadata": {},
   "source": [
    "## Create a function that runs all the funtions together"
   ]
  },
  {
   "cell_type": "code",
   "execution_count": 19,
   "metadata": {
    "collapsed": true
   },
   "outputs": [],
   "source": [
    "def processText(textIn,posMatchWords,negMatchWords):\n",
    "    # Tokenize the sentence\n",
    "    listOfSentences = tokenSentences(textIn) \n",
    "    listOfSentiments = []\n",
    "    # For every sentence\n",
    "    for sentence in listOfSentences: \n",
    "        # Tokenize the sentence\n",
    "        sentTokens = tokenizer(sentence)\n",
    "        \n",
    "        # Calculate the percent postive, negative and overall sentiment\n",
    "        percentages = calculatePercent(sentTokens,posMatchWords,negMatchWords) \n",
    "        theSentiment = calculateSentiment(percentages[0],percentages[1]) \n",
    "        listOfSentiments.append(theSentiment)\n",
    "        \n",
    "    return listOfSentiments # Return the final list\n"
   ]
  },
  {
   "cell_type": "markdown",
   "metadata": {},
   "source": [
    "## Creating a list of postive and negative words"
   ]
  },
  {
   "cell_type": "code",
   "execution_count": 40,
   "metadata": {},
   "outputs": [],
   "source": [
    "#Text Path\n",
    "postivepath = \"./postive.txt\"\n",
    "negativepath = \"./negative.txt\"\n",
    "tweetpath = \"./obamaTweet.txt\"\n",
    "\n",
    "#Open file\n",
    "with open(postivepath, \"r\") as file:\n",
    "    postive = file.read().lower().split(\"\\n\")\n",
    "    \n",
    "with open(negativepath, \"r\") as file:\n",
    "    negative = file.read().lower().split(\"\\n\")\n",
    "    \n",
    "with open(tweetpath, \"r\") as file:\n",
    "    tweet = file.read().lower()\n",
    "    \n",
    "overall = processText(tweet, postive, negative)"
   ]
  },
  {
   "cell_type": "markdown",
   "metadata": {},
   "source": [
    "## Graphing the results"
   ]
  },
  {
   "cell_type": "code",
   "execution_count": null,
   "metadata": {
    "collapsed": true
   },
   "outputs": [],
   "source": []
  }
 ],
 "metadata": {
  "kernelspec": {
   "display_name": "Python 3",
   "language": "python",
   "name": "python3"
  },
  "language_info": {
   "codemirror_mode": {
    "name": "ipython",
    "version": 3
   },
   "file_extension": ".py",
   "mimetype": "text/x-python",
   "name": "python",
   "nbconvert_exporter": "python",
   "pygments_lexer": "ipython3",
   "version": "3.6.1"
  }
 },
 "nbformat": 4,
 "nbformat_minor": 2
}
