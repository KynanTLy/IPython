{
 "cells": [
  {
   "cell_type": "markdown",
   "metadata": {},
   "source": [
    "# Apophenia\n",
    "\n",
    "Is the spontaneous perception of connection\n",
    "\n",
    "# Meta Data\n",
    "\n",
    "## About data\n",
    "File name\n",
    "Provenance (Where you got it)\n",
    "Date of gathering\n",
    "work done on file\n",
    "keywords\n",
    "\n",
    "## About original\n",
    "Title\n",
    "Author\n",
    "Date of Creation\n",
    "Tyoe of Document\n"
   ]
  },
  {
   "cell_type": "code",
   "execution_count": 36,
   "metadata": {},
   "outputs": [
    {
     "data": {
      "text/plain": [
       "\"\\nimport csv\\ncomments = []\\nwith open('AdamSavageComments.csv', 'r') as file: # This makes sure that file is closed after reading\\n    data = csv.reader(file)\\n    for row in data:\\n        if row[5].isdecimal() and int(row[5]) > 3:\\n            comments.append(row[4]) # This puts all the data from column 5 into a list\\n    file.close()\\n\\nlen(comments)\\n\""
      ]
     },
     "execution_count": 36,
     "metadata": {},
     "output_type": "execute_result"
    }
   ],
   "source": [
    "\n",
    "'''\n",
    "import csv\n",
    "comments = []\n",
    "with open('AdamSavageComments.csv', 'r') as file: # This makes sure that file is closed after reading\n",
    "    data = csv.reader(file)\n",
    "    for row in data:\n",
    "        if row[5].isdecimal() and int(row[5]) > 3:\n",
    "            comments.append(row[4]) # This puts all the data from column 5 into a list\n",
    "    file.close()\n",
    "\n",
    "len(comments)\n",
    "'''"
   ]
  },
  {
   "cell_type": "code",
   "execution_count": 40,
   "metadata": {},
   "outputs": [
    {
     "name": "stdout",
     "output_type": "stream",
     "text": [
      "      I project   ahead    time    work \n",
      "     15       4       3       3       2 \n",
      "       I   skills   strong  writing customer \n",
      "      12        4        3        3        3 \n"
     ]
    }
   ],
   "source": [
    "import csv\n",
    "import nltk \n",
    "\n",
    "AdvanceRemarks = []\n",
    "Remarks = []\n",
    "with open('MockInterviewCorpus.csv', 'r') as file: # This makes sure that file is closed after reading\n",
    "    data = csv.reader(file)\n",
    "    for row in data:\n",
    "        if row[3] == 'MA' or row[3] == 'PHD':\n",
    "            AdvanceRemarks.append(row[6]) # This puts all the data from column 5 into a list\n",
    "        else:\n",
    "            Remarks.append(row[6])\n",
    "    file.close()\n",
    "\n",
    "#len(AdvanceRemarks)\n",
    "#len(Remarks)\n",
    "\n",
    "AdvanceRemarkFull = \"\"\n",
    "RemarkFull = \"\"\n",
    "\n",
    "#Convert it into a string\n",
    "for answer in AdvanceRemarks:\n",
    "    AdvanceRemarkFull = AdvanceRemarkFull + \"\\n\" + answer\n",
    "    \n",
    "for answer in Remarks:\n",
    "    RemarkFull = RemarkFull + \"\\n\" + answer\n",
    "\n",
    "#Adding stopwords\n",
    "stopwords = nltk.corpus.stopwords.words(\"english\")\n",
    "    \n",
    "#Tokenize the result\n",
    "listofTokenAdvance = nltk.word_tokenize(AdvanceRemarkFull)\n",
    "listofToken = nltk.word_tokenize(RemarkFull)\n",
    "\n",
    "#Keep words\n",
    "listofTokenAdvance = [token for token in listofTokenAdvance if token[0].isalpha()]\n",
    "listofToken = [token for token in listofToken if token[0].isalpha()]\n",
    "\n",
    "#Remove Stop words\n",
    "listofTokenAdvance = [token for token in listofTokenAdvance if token not in stopwords]    \n",
    "listofToken = [token for token in listofToken if token not in stopwords]   \n",
    "\n",
    "#Calculate Frequency\n",
    "AdvanceFreqs = nltk.FreqDist(listofTokenAdvance)\n",
    "Freqs = nltk.FreqDist(listofToken)\n",
    "\n",
    "AdvanceFreqs.tabulate(5)\n",
    "Freqs.tabulate(5)\n",
    "\n"
   ]
  },
  {
   "cell_type": "code",
   "execution_count": null,
   "metadata": {
    "collapsed": true
   },
   "outputs": [],
   "source": []
  }
 ],
 "metadata": {
  "kernelspec": {
   "display_name": "Python 3",
   "language": "python",
   "name": "python3"
  },
  "language_info": {
   "codemirror_mode": {
    "name": "ipython",
    "version": 3
   },
   "file_extension": ".py",
   "mimetype": "text/x-python",
   "name": "python",
   "nbconvert_exporter": "python",
   "pygments_lexer": "ipython3",
   "version": "3.6.1"
  }
 },
 "nbformat": 4,
 "nbformat_minor": 2
}
