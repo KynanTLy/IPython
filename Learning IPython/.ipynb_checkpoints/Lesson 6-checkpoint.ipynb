{
 "cells": [
  {
   "cell_type": "code",
   "execution_count": null,
   "metadata": {},
   "outputs": [],
   "source": [
    "import urllib.request\n",
    "import re\n",
    "from collections import Counter\n",
    "\n",
    "# Get all URL into a list \n",
    "URL ='http://www.gutenberg.org/files/98/98-0.txt'\n",
    "\n",
    "fullDialogue = \"\"\n",
    "\n",
    "def pullText2(index,what):\n",
    "    leftInd = index - 50\n",
    "    rightInd = index + 50\n",
    "    #Look at the range of words and replace all the /r and /n\n",
    "    theFound = what[leftInd:rightInd].replace(\"\\r\\n\",\" \")\n",
    "    return theFound\n",
    "\n",
    "print(pullText2(10745,fullDialogue))\n",
    "\n",
    "#For every element in URL add it to fullDialogue\n",
    "with urllib.request.urlopen(URL) as response:\n",
    "    fullDialogue += (response.read().decode('utf-8'))\n",
    "\n",
    "# We start by asking what work you want a concordance for. Note that we lower case it.\n",
    "word2find = input(\"What word do you want a concordance for? \").lower()\n",
    "theRange = range(fullDialogue.count(word2find)) # We get the range for this word\n",
    "\n",
    "# Now we create a variable to hold our location as we work through and we set it to 0.\n",
    "theLocation = 0\n",
    "\n",
    "print(theRange)\n",
    "\n",
    "# Here is the loop that goes through the text\n",
    "for instance in theRange:\n",
    "    # Here we call our function with the updated location and print out the context\n",
    "    print(pullText2(theLocation,fullDialogue))\n",
    "    # Now we update the location so the next iteration returns the next instance\n",
    "    theLocation = fullDialogue.find(word2find,theLocation) + 1\n",
    "    \n",
    "theTokens = re.findall('[A-Z][a-zA-Z]+', fullDialogue)\n",
    "\n",
    "print(Counter(theTokens).most_common(10))    "
   ]
  }
 ],
 "metadata": {
  "kernelspec": {
   "display_name": "Python 3",
   "language": "python",
   "name": "python3"
  },
  "language_info": {
   "codemirror_mode": {
    "name": "ipython",
    "version": 3
   },
   "file_extension": ".py",
   "mimetype": "text/x-python",
   "name": "python",
   "nbconvert_exporter": "python",
   "pygments_lexer": "ipython3",
   "version": "3.6.1"
  }
 },
 "nbformat": 4,
 "nbformat_minor": 2
}
