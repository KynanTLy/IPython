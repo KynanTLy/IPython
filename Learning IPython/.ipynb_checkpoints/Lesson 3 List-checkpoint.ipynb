{
 "cells": [
  {
   "cell_type": "code",
   "execution_count": 1,
   "metadata": {},
   "outputs": [
    {
     "name": "stdout",
     "output_type": "stream",
     "text": [
      "All Earth are terrible at sports\n"
     ]
    }
   ],
   "source": [
    "import random\n",
    "\n",
    "noun = [\n",
    "    \"Earth\",\n",
    "    \"Macbeth\",\n",
    "    \"University of Alberta\",\n",
    "    \"Beavers\",\n",
    "    \"Cellphone\",\n",
    "    \"Soccer Ball\"\n",
    "]\n",
    "\n",
    "adjective = [\n",
    "    \"great\",\n",
    "    \"terrible at sports\",\n",
    "    \"brings only woes\",\n",
    "    \"sleeps like a log\",\n",
    "    \"talked too loud\"\n",
    "]\n",
    "\n",
    "print(\"All \" + random.choice(noun) + \" are \" + random.choice(adjective))\n",
    "\n"
   ]
  },
  {
   "cell_type": "markdown",
   "metadata": {},
   "source": [
    "# Reading a text file and counting the words"
   ]
  },
  {
   "cell_type": "code",
   "execution_count": 12,
   "metadata": {
    "scrolled": true
   },
   "outputs": [
    {
     "name": "stdout",
     "output_type": "stream",
     "text": [
      "[('the', 7), ('you', 5), ('a', 4), ('it', 4), ('and', 4), ('to', 4), ('text', 3), ('file', 3), ('that', 2), ('top', 2)]\n"
     ]
    }
   ],
   "source": [
    "path = '/home/kynan/Desktop/HUCO 617/Intro/Lesson3TextInput.txt'\n",
    "from collections import Counter\n",
    "#This find where the file is located\n",
    "\n",
    "text_file = open(path,'r')\n",
    "#This opens the file from the path and reads it. The 'r' means 'reads the files'\n",
    "\n",
    "words = text_file.read().split()\n",
    "#Read the file and divide the words using split. Then save the results into the variable words\n",
    "\n",
    "theCounts = Counter(words)\n",
    "#Counts all the words in the variable \"words\"\n",
    "\n",
    "print(theCounts.most_common(10))\n",
    "#Print the 10 most common words\n",
    "\n",
    "and\n"
   ]
  },
  {
   "cell_type": "code",
   "execution_count": null,
   "metadata": {
    "collapsed": true
   },
   "outputs": [],
   "source": []
  }
 ],
 "metadata": {
  "kernelspec": {
   "display_name": "Python 3",
   "language": "python",
   "name": "python3"
  },
  "language_info": {
   "codemirror_mode": {
    "name": "ipython",
    "version": 3
   },
   "file_extension": ".py",
   "mimetype": "text/x-python",
   "name": "python",
   "nbconvert_exporter": "python",
   "pygments_lexer": "ipython3",
   "version": "3.6.1"
  }
 },
 "nbformat": 4,
 "nbformat_minor": 2
}
