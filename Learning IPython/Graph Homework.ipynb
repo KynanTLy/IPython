{
 "cells": [
  {
   "cell_type": "markdown",
   "metadata": {},
   "source": [
    "Importing required libraries"
   ]
  },
  {
   "cell_type": "code",
   "execution_count": 80,
   "metadata": {
    "collapsed": true
   },
   "outputs": [],
   "source": [
    "import matplotlib.pyplot as plt\n",
    "import nltk\n",
    "\n",
    "# make sure that graphs are embedded into our notebook output\n",
    "%matplotlib inline"
   ]
  },
  {
   "cell_type": "markdown",
   "metadata": {},
   "source": [
    "Gathering the text and removing stop words"
   ]
  },
  {
   "cell_type": "code",
   "execution_count": 81,
   "metadata": {
    "collapsed": true
   },
   "outputs": [],
   "source": [
    "#Text Path\n",
    "textpath = \"./Charles Dickens.txt\"\n",
    "\n",
    "#Open file\n",
    "with open(textpath, \"r\") as file:\n",
    "    text = file.read()\n",
    "\n",
    "    \n",
    "listofToken = nltk.word_tokenize(text)\n",
    "\n",
    "theText = nltk.Text(listofToken)\n",
    "\n",
    "#Parse for only words\n",
    "theText = [token for token in theText if token[0].isalpha()]\n",
    "\n",
    "stopwords = nltk.corpus.stopwords.words(\"english\")\n",
    "\n",
    "#Remove the stop words from the list\n",
    "theText = [token for token in theText if token not in stopwords]"
   ]
  },
  {
   "cell_type": "markdown",
   "metadata": {},
   "source": [
    "Trying to match different frequncy in a plot"
   ]
  },
  {
   "cell_type": "code",
   "execution_count": 82,
   "metadata": {},
   "outputs": [
    {
     "name": "stdout",
     "output_type": "stream",
     "text": [
      "     I   said    Mr.    The  would    one   upon little  could     He     It   know   time    old    man \n",
      " 23806   6410   4740   2456   2416   2243   2013   2004   1983   1869   1788   1763   1611   1517   1438 \n"
     ]
    },
    {
     "data": {
      "image/png": "[encoded data removed]",
      "text/plain": [
       "<matplotlib.figure.Figure at 0x7f8743e43f98>"
      ]
     },
     "metadata": {},
     "output_type": "display_data"
    }
   ],
   "source": [
    "#Find the frequency distribution\n",
    "NewFreqs = nltk.FreqDist(theText)\n",
    "\n",
    "#Display the first 25 result in a tab form\n",
    "NewFreqs.tabulate(15)\n",
    "\n",
    "#Plot the first 25 results\n",
    "NewFreqs.plot(15, title=\"Top words in Charles Dickens\")\n"
   ]
  },
  {
   "cell_type": "markdown",
   "metadata": {},
   "source": [
    "Now trying ot match frequency of different words and in terms of Mr. and main characters"
   ]
  },
  {
   "cell_type": "code",
   "execution_count": 83,
   "metadata": {},
   "outputs": [
    {
     "data": {
      "image/png": "[encoded data removed]",
      "text/plain": [
       "<matplotlib.figure.Figure at 0x7f8745bdaba8>"
      ]
     },
     "metadata": {},
     "output_type": "display_data"
    }
   ],
   "source": [
    "theText = nltk.Text(theText)\n",
    "theText.dispersion_plot([\"Darnay\", \"Carton\", \"Jarvis\", \"Manette\"])\n"
   ]
  },
  {
   "cell_type": "markdown",
   "metadata": {},
   "source": [
    "Dividing it into sections for a better picture"
   ]
  },
  {
   "cell_type": "code",
   "execution_count": 84,
   "metadata": {},
   "outputs": [
    {
     "name": "stdout",
     "output_type": "stream",
     "text": [
      "457716\n",
      "91543\n",
      "Starting search with Mr.\n",
      "\n",
      "Added 717 for word Mr. section 0\n",
      "Added 577 for word Mr. section 1\n",
      "Added 1071 for word Mr. section 2\n",
      "Added 1330 for word Mr. section 3\n",
      "Added 1045 for word Mr. section 4\n",
      "Starting search with Darnay\n",
      "\n",
      "Added 145 for word Darnay section 0\n",
      "Added 0 for word Darnay section 1\n",
      "Added 0 for word Darnay section 2\n",
      "Added 0 for word Darnay section 3\n",
      "Added 0 for word Darnay section 4\n",
      "Starting search with Carton\n",
      "\n",
      "Added 154 for word Carton section 0\n",
      "Added 0 for word Carton section 1\n",
      "Added 0 for word Carton section 2\n",
      "Added 0 for word Carton section 3\n",
      "Added 0 for word Carton section 4\n",
      "Starting search with Jarvis\n",
      "\n",
      "Added 19 for word Jarvis section 0\n",
      "Added 0 for word Jarvis section 1\n",
      "Added 0 for word Jarvis section 2\n",
      "Added 0 for word Jarvis section 3\n",
      "Added 0 for word Jarvis section 4\n",
      "Starting search with Manette\n",
      "\n",
      "Added 159 for word Manette section 0\n",
      "Added 0 for word Manette section 1\n",
      "Added 0 for word Manette section 2\n",
      "Added 0 for word Manette section 3\n",
      "Added 0 for word Manette section 4\n",
      "\n",
      "\n",
      "[[717, 577, 1071, 1330, 1045], [145, 0, 0, 0, 0], [154, 0, 0, 0, 0], [19, 0, 0, 0, 0], [159, 0, 0, 0, 0]]\n"
     ]
    }
   ],
   "source": [
    "numWords = len(theText)\n",
    "sections = 5\n",
    "numSectWords = int(numWords/sections)\n",
    "\n",
    "print(numWords)\n",
    "print(numSectWords)\n",
    "\n",
    "ListofWords = [\"Mr.\", \"Darnay\",\"Carton\",\"Jarvis\",\"Manette\"]\n",
    "\n",
    "freqsOfWord = [[],[],[],[],[]] # This is the list for the frequencies for each section\n",
    "count = 0\n",
    "for word in ListofWords:\n",
    "    print(\"Starting search with \" + word + \"\\n\")\n",
    "    for n in range(5):\n",
    "        startSearch = n * numSectWords # Calculate the index of the start of the section\n",
    "        stopSearch = startSearch + numSectWords - 1 # Calculate the end of the section\n",
    "        # Get the frequency of the word in the section and append to list\n",
    "        freqsOfWord[count].append(theText[startSearch:stopSearch].count(word)) \n",
    "        print(\"Added \" + str(theText[startSearch:stopSearch].count(word)) + \" for word \" + word + \" section \" + str(n))\n",
    "    count += 1\n",
    "\n",
    "# Here we check the list\n",
    "print(\"\\n\")\n",
    "print(freqsOfWord)\n"
   ]
  },
  {
   "cell_type": "markdown",
   "metadata": {},
   "source": [
    "Graphing the results"
   ]
  },
  {
   "cell_type": "code",
   "execution_count": 85,
   "metadata": {},
   "outputs": [
    {
     "data": {
      "image/png": "[encoded data removed]",
      "text/plain": [
       "<matplotlib.figure.Figure at 0x7f8744ecd128>"
      ]
     },
     "metadata": {},
     "output_type": "display_data"
    }
   ],
   "source": [
    "#plt.plot(freqsOfWord[0])\n",
    "plt.plot(freqsOfWord[1])\n",
    "plt.plot(freqsOfWord[2])\n",
    "plt.plot(freqsOfWord[3])\n",
    "plt.plot(freqsOfWord[4])\n",
    "\n",
    "plt.xlabel('Sections') # X Axis Label\n",
    "plt.ylabel('Frequencies') # Y Axis Label\n",
    "plt.title('Trend Graph') # Plot Title\n",
    "\n",
    "\n",
    "plt.show() # Show the plot."
   ]
  },
  {
   "cell_type": "markdown",
   "metadata": {},
   "source": [
    "Historgram"
   ]
  },
  {
   "cell_type": "code",
   "execution_count": 86,
   "metadata": {},
   "outputs": [
    {
     "data": {
      "image/png": "[encoded data removed]",
      "text/plain": [
       "<matplotlib.figure.Figure at 0x7f8744de6c18>"
      ]
     },
     "metadata": {},
     "output_type": "display_data"
    }
   ],
   "source": [
    "#plt.plot(freqsOfWord[0])\n",
    "plt.hist(freqsOfWord[1], bins=5)\n",
    "plt.hist(freqsOfWord[2], bins=5)\n",
    "plt.hist(freqsOfWord[3], bins=5)\n",
    "plt.hist(freqsOfWord[4], bins=5)\n",
    "\n",
    "plt.show() # Show the plot."
   ]
  },
  {
   "cell_type": "markdown",
   "metadata": {},
   "source": [
    "Covert to function"
   ]
  },
  {
   "cell_type": "code",
   "execution_count": 87,
   "metadata": {},
   "outputs": [],
   "source": [
    "def wordPerSection(theText, word, numSection):\n",
    "    freqsOfWord = []\n",
    "    for n in range(numSection):\n",
    "        startSearch = n * numSectWords # Calculate the index of the start of the section\n",
    "        stopSearch = startSearch + numSectWords - 1 # Calculate the end of the section\n",
    "        # Get the frequency of the word in the section and append to list\n",
    "        freqsOfWord.append(theText[startSearch:stopSearch].count(word)) \n",
    "    return freqsOfWord"
   ]
  },
  {
   "cell_type": "markdown",
   "metadata": {},
   "source": [
    "Trying the function results "
   ]
  },
  {
   "cell_type": "code",
   "execution_count": 88,
   "metadata": {},
   "outputs": [
    {
     "name": "stdout",
     "output_type": "stream",
     "text": [
      "[154, 0, 0, 0, 0]\n"
     ]
    }
   ],
   "source": [
    "print(wordPerSection(theText, \"Carton\", 5))"
   ]
  },
  {
   "cell_type": "code",
   "execution_count": 89,
   "metadata": {},
   "outputs": [
    {
     "data": {
      "text/plain": [
       "<Container object of 5 artists>"
      ]
     },
     "execution_count": 89,
     "metadata": {},
     "output_type": "execute_result"
    },
    {
     "data": {
      "image/png": "[encoded data removed]",
      "text/plain": [
       "<matplotlib.figure.Figure at 0x7f8745505a90>"
      ]
     },
     "metadata": {},
     "output_type": "display_data"
    }
   ],
   "source": [
    "import numpy as np\n",
    "\n",
    "Frequency = wordPerSection(theText, \"Carton\", 5)\n",
    "\n",
    "AmountFrequency = np.array(range(len(Frequency)))+0.5\n",
    "\n",
    "\n",
    "plt.bar(AmountFrequency,Frequency, width=0.5)\n"
   ]
  },
  {
   "cell_type": "code",
   "execution_count": null,
   "metadata": {
    "collapsed": true
   },
   "outputs": [],
   "source": []
  }
 ],
 "metadata": {
  "kernelspec": {
   "display_name": "Python 3",
   "language": "python",
   "name": "python3"
  },
  "language_info": {
   "codemirror_mode": {
    "name": "ipython",
    "version": 3
   },
   "file_extension": ".py",
   "mimetype": "text/x-python",
   "name": "python",
   "nbconvert_exporter": "python",
   "pygments_lexer": "ipython3",
   "version": "3.6.1"
  }
 },
 "nbformat": 4,
 "nbformat_minor": 2
}
