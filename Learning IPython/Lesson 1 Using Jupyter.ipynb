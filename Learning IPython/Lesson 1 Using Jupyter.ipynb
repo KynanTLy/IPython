{
 "cells": [
  {
   "cell_type": "markdown",
   "metadata": {},
   "source": [
    "# How to Change Cell Type\n",
    "\n",
    "To convert from a \"code cell\" to a \"markdown (text) cell\" go to the \"Cell\" Tab and go to \"Cell Type. From there you can choose to either have it as a \"markdown cell\" or a \"code cell\"\n",
    "\n",
    "# How to Add a Heading\n",
    "\n",
    "By adding a \"# \" in front of the text, it will make it into a heading. To make lower level of heading just add more \"#\" infront of the original \"#\"\n",
    "\n",
    "## Just Like this!\n",
    "\n",
    "# How to making something Bold or Italic\n",
    "\n",
    "All you need to do is to put whatever your word/sentence inside \"\\*\\*\" or \"\\_\\_\" \" \"** For Bold **\" or \"\\*\" or  \"\\_\" \"* For Italic *\"  \n",
    "\n",
    "# How to make a Bullet List\n",
    "\n",
    "To make a bullet list put a \"-\" followed by 2 spaces before what you want to type into the list. To create another sub-tab just add a \"tab\" the inital things for the bullet.\n",
    "-  Just like this!\n",
    "    -  This is a sublist\n",
    "\n",
    "# How to create a Link\n",
    "\n",
    "First you type \"\\_\\_\" followed by \"[ Whatever the name of the link you want]\" followed by the URL in \"( SOME URL )\" between the brackets and ending off with \"\\_\\_\"\n",
    "\n",
    "__[This is where you can find the cheat sheet](http://datascience.ibm.com/blog/markdown-for-jupyter-notebooks-cheatsheet/)__\n"
   ]
  },
  {
   "cell_type": "code",
   "execution_count": 4,
   "metadata": {
    "scrolled": true
   },
   "outputs": [
    {
     "name": "stdout",
     "output_type": "stream",
     "text": [
      "Hello\n"
     ]
    }
   ],
   "source": [
    "print(\"Hello\")"
   ]
  }
 ],
 "metadata": {
  "kernelspec": {
   "display_name": "Python 3",
   "language": "python",
   "name": "python3"
  },
  "language_info": {
   "codemirror_mode": {
    "name": "ipython",
    "version": 3
   },
   "file_extension": ".py",
   "mimetype": "text/x-python",
   "name": "python",
   "nbconvert_exporter": "python",
   "pygments_lexer": "ipython3",
   "version": "3.6.1"
  }
 },
 "nbformat": 4,
 "nbformat_minor": 2
}
