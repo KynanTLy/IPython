{
 "cells": [
  {
   "cell_type": "markdown",
   "metadata": {},
   "source": [
    "### Python Data Type\n",
    "\n",
    "Do you remember in Math class where there are different type of numbers? There are <font color=green>**Integer**</font> or <font color=green>**Whole Numbers**</font>, <font color=green>**Real Number**</font>. In Python 3 and other programming language there is are many other data type, for now we will keep it simple and list some of the more common ones. \n",
    "\n",
    "#### Here is a list of some common Data Type \n",
    "<div class=\"alert alert-block alert-info\">\n",
    "-  <font color=blue>**Character**</font>\n",
    "    -  Think of character as any <font color=green>**single key**</font> on your keyboard. This could be numbers, letters and special characters.\n",
    "\n",
    "-  <font color=blue>**String**</font>\n",
    "    -  String is any combination of Characters encased between <font color=green>**\" \"**</font> or <font color=green>**' '**</font>. This can include <font color=green>**numbers**</font>, <font color=green>**letters**</font> and even <font color=green>**special characters**</font>.\n",
    "        -  Remember  <font color=green>**\"/\"\"**</font> and  <font color=green>**\"/'\"**</font> can be used interchangably however if you choose to use one over the other, you have to be <font color=blue>**consistent**</font>! So you <font color=red>cannot have **\"Hello'** </font>but  <font color=green> **\"Hello\"** or **'Hello'** </font> are exactly the same\n",
    "-  <font color=blue>**Integer**</font>\n",
    "    -  Refers to whole numbers like  <font color=green>**3**</font> or  <font color=green>**262361508**</font>.\n",
    "-  <font color=blue>**Float**</font> \n",
    "    -  Refers to decimal numbers like  <font color=green>**3.14**</font>.\n",
    "    \n",
    "</div>\n",
    "We can see the difference in the example below:"
   ]
  },
  {
   "cell_type": "code",
   "execution_count": 1,
   "metadata": {
    "collapsed": true
   },
   "outputs": [],
   "source": [
    "This_Refers_To_The_Integer_4 = 4\n",
    "This_Refers_To_The_String_4 = '4'"
   ]
  },
  {
   "cell_type": "markdown",
   "metadata": {},
   "source": [
    "As you can see above the two <font color=blue>**4**</font> are displayed in different colours. One is <font color=green>green for the **Integer**</font> and the other is <font color=red>red for the **String**</font>. This is to indicate that <font color=blue>**they are different**</font>. Depending on what program you are using to write Python code it may be a different colour or have no colour atgreen.\n",
    "\n",
    "Now if we do some basic operation on the two variables or nicknames we can see they give us different results"
   ]
  },
  {
   "cell_type": "code",
   "execution_count": 2,
   "metadata": {},
   "outputs": [
    {
     "data": {
      "text/plain": [
       "16"
      ]
     },
     "execution_count": 2,
     "metadata": {},
     "output_type": "execute_result"
    }
   ],
   "source": [
    "This_Refers_To_The_Integer_4 = 4\n",
    "\n",
    "This_Refers_To_The_Integer_4 * 4"
   ]
  },
  {
   "cell_type": "code",
   "execution_count": 3,
   "metadata": {},
   "outputs": [
    {
     "data": {
      "text/plain": [
       "'4444'"
      ]
     },
     "execution_count": 3,
     "metadata": {},
     "output_type": "execute_result"
    }
   ],
   "source": [
    "This_Refers_To_The_String_4 = '4'\n",
    "\n",
    "This_Refers_To_The_String_4 * 4"
   ]
  },
  {
   "cell_type": "markdown",
   "metadata": {},
   "source": [
    "As you can see they give us different result because they are different data type. One multipled the number 4 x 4 resulting in 16. In the second case we are saying we want \"4 copies of the character 4\" resulting in \"4444\"\n",
    "\n",
    "Now that we have discussed the different data types, we are going to touch on Data Structures"
   ]
  },
  {
   "cell_type": "code",
   "execution_count": null,
   "metadata": {
    "collapsed": true
   },
   "outputs": [],
   "source": []
  }
 ],
 "metadata": {
  "kernelspec": {
   "display_name": "Python 3",
   "language": "python",
   "name": "python3"
  },
  "language_info": {
   "codemirror_mode": {
    "name": "ipython",
    "version": 3
   },
   "file_extension": ".py",
   "mimetype": "text/x-python",
   "name": "python",
   "nbconvert_exporter": "python",
   "pygments_lexer": "ipython3",
   "version": "3.6.1"
  }
 },
 "nbformat": 4,
 "nbformat_minor": 2
}
