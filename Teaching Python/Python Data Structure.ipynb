{
 "cells": [
  {
   "cell_type": "markdown",
   "metadata": {},
   "source": [
    "### Data Structures\n",
    "\n",
    "Imagine you are going to the grocery store, you might bring along a shopping list which list all the things that you might want to purchase. You wouldn't bring 10 different pieces of paper to record all the things you need. You would just bring just the 1 list. \n",
    "\n",
    "#### List \n",
    "\n",
    "List follow the same format as other <font color=blue>**Data Structure**</font> in how it is declared. There is also some <font color=green> *rules* </font> that a list must follow. One of these rules is that a list can <font color=blue> only have 1 **data type** stored inside it</font>. This means that a list <font color=red> cannot contain both an *Integer* and a *String* </font>."
   ]
  },
  {
   "cell_type": "code",
   "execution_count": 1,
   "metadata": {
    "collapsed": true
   },
   "outputs": [],
   "source": [
    "example_list = []"
   ]
  },
  {
   "cell_type": "markdown",
   "metadata": {},
   "source": [
    "This is how we would declare an empty list. List are declared with <font color=green>'**[**'</font> and <font color=green>'**]**'</font>. These <font color=blue>*square brackets*</font> is an indicator that tells Python that you are declaring a list\n",
    "\n",
    "But an empty list is not very useful to have, so lets fill it with some data"
   ]
  },
  {
   "cell_type": "code",
   "execution_count": 2,
   "metadata": {
    "collapsed": true
   },
   "outputs": [],
   "source": [
    "example_list = [3, 4, 5]"
   ]
  },
  {
   "cell_type": "markdown",
   "metadata": {},
   "source": [
    "Now our example_list contains <font color=blue>**3 integer elements**</font>. That is the <font color=green>numberic value 3, 4, and 5</font>. As you can see, each <font color=blue>**element** (or things insides our list)</font> is seperated with <font color=blue>'**,**'</font>. \n",
    "\n",
    "<div class=\"alert alert-block alert-info\">\n",
    "**A String example**  \n",
    "\n",
    "example_list_strings = [  \n",
    "&nbsp;&nbsp;\"Hello this is a list\",  \n",
    "&nbsp;&nbsp;\"of strings. As you can see\",   \n",
    "&nbsp;&nbsp;\"some of these sentences can be longer than other and that is okay.\"  \n",
    "]\n",
    "\n",
    "</div>\n",
    "\n",
    "One thing to note with this example that is different from the previous (aside from the fact that this is a list of <font color=green>**strings**</font>) is that not all the <font color=blue>list element is in the same line</font>. This is <font color=green>**perfectly okay**</font> in Python 3. That is because Python 3 is smart and assumes that you mean for all of it to be in the same line. \n",
    "\n",
    "Therefore this means that\n",
    "\n",
    "<div class=\"alert alert-block alert-info\">\n",
    "example_list_strings = [  \n",
    "&nbsp;&nbsp;\"Hello this is a list\",  \n",
    "&nbsp;&nbsp;\"of strings. As you can see\",   \n",
    "&nbsp;&nbsp;\"some of these sentences can be longer than other and that is okay.\"  \n",
    "]  \n",
    "  \n",
    "  \n",
    "is the <font color=green>**SAME**</font> as   \n",
    "  \n",
    "  \n",
    "example_list_strings = [\"Hello this is a list\", \"of strings. As you can see\",\"some of these sentences can be longer than other and that is okay.\"]\n",
    "\n",
    "</div>\n",
    "\n",
    "As long as the <font color=green>proper list grammer is followed</font>\n",
    "\n",
    "Now that we know how to create a list, how do access an <font color=blue>**element**</font> in a list?\n",
    "\n",
    "This can be done with using the <font color=blue> \"**[**\" and \"**]**\" </font> and specifing an <font color=blue>**index**</font>. Look at the example below"
   ]
  },
  {
   "cell_type": "code",
   "execution_count": 3,
   "metadata": {},
   "outputs": [
    {
     "data": {
      "text/plain": [
       "4"
      ]
     },
     "execution_count": 3,
     "metadata": {},
     "output_type": "execute_result"
    }
   ],
   "source": [
    "example_list = [3, 4, 5]\n",
    "example_list[1]"
   ]
  },
  {
   "cell_type": "markdown",
   "metadata": {},
   "source": [
    "As you can see the output for <font color=green> *example_list[1]* </font> resulted in the number <font color=blue>**4**</font>. Why does this happen? You would expect when ask for the <font color=blue> **element 1** </font> you would expect it to return the 1st item of the list or in this case <font color=green>**3**</font>. However in Python 3 and other programming languages we start the list at <font color=green>**0**</font>. \n",
    "\n",
    "**Using the Previous Example:**\n",
    "<div class=\"alert alert-block alert-info\">\n",
    "\n",
    "**example_list = [3, 4, 5]**\n",
    "\n",
    "To extract the first <font color=blue>**element**</font> or the number <font color=blue> **3** </font>. We would use the line of code:\n",
    "\n",
    "**example_list[0]**\n",
    "</div>\n",
    "\n",
    "Breaking down what the line above. We are telling the computer to go find the <font color=blue>list</font> called **example_list**. Next lets look at the <font color=blue>**0**</font> inside the <font color=green>*square brackets*</font>. The <font color=blue>**0**</font> refering to an <font color=green> **index** </font>. \n",
    "\n",
    "Recall that <font color=green> **index** </font> refers to a <font color=blue> **position** </font> in the list. Since in Python 3 we <font color=red>*do not start counting form 1* </font>, we <font color=blue> *start at 0* </font>. \n",
    "\n",
    "<div class=\"alert alert-block alert-info\">\n",
    "**example_list = [3, 4, 5]**  \n",
    "\n",
    "To get the <font color=blue> *1st element (3)* </font> you would use: **example_list[0]** for the **0th index/position**  \n",
    "\n",
    "To get the <font color=blue> *2nd element (4)* </font> you would use: **example_list[1]** for the **1st index/position**  \n",
    "\n",
    "To get the <font color=blue> *3rd element (5)* </font> you would use: **example_list[2]** for the **2nd index/position**  \n",
    "\n",
    "</div>\n",
    "\n",
    "As you can see, we can now select <font color=blue>**individual elements**</font> from a list. However what happens when we want to select <font color=blue>**more than 1**</font>?\n",
    "\n",
    "### List Slicing\n",
    "\n",
    "Think of <font color=green>**slicing**</font> like you are slicing a pie. You can slice yourself any size of slice. You could have a big one or a small one. To <font color=green>**slice**</font> a list you need to learn a <font color=blue>**new grammer rule**</font>.\n",
    "\n",
    "**Using the previous example:**"
   ]
  },
  {
   "cell_type": "code",
   "execution_count": 4,
   "metadata": {},
   "outputs": [
    {
     "data": {
      "text/plain": [
       "[3, 4]"
      ]
     },
     "execution_count": 4,
     "metadata": {},
     "output_type": "execute_result"
    }
   ],
   "source": [
    "example_list = [3, 4, 5]\n",
    "example_list[0:2]"
   ]
  },
  {
   "cell_type": "markdown",
   "metadata": {},
   "source": [
    "As you can see with the above example it returned us <font color=blue>**[3, 4]**</font> or more than <font color=green>1 element</font>.\n",
    "\n",
    "Now lets look at exactly what happend\n",
    "\n",
    "<div class=\"alert alert-block alert-info\">\n",
    "**example_list[0:2]**\n",
    "</div>\n",
    "\n",
    "Normally if we only wanted one element we would have just use <font color=blue>**1 number**</font> to <font color=green>refer to the index/position of the element in the list we wanted</font>\n",
    "\n",
    "However in the above example we have <font color=blue> **2 number as well as a \":\" seperating the two numbers** </font>\n",
    "\n",
    "The <font color=blue>**1st number**</font> refers to where we want to <font color=blue>**start**</font> our <font color=green>*slice*</font>. The <font color=blue>**:**</font> is used to tell the computer we are going to slice. The <font color=blue>**2nd number**</font> refers to where we are going <font color=blue>**end**</font>.\n",
    "\n",
    "\n",
    "Note: we <font color=red>**DO NOT include the 2nd number index/position value **</font> (in this example) when we slice.\n",
    "\n",
    "Therefore the example:\n",
    "<div class=\"alert alert-block alert-info\">\n",
    "**example_list[0:2]**\n",
    "</div>\n",
    "\n",
    "would return us all <font color=blue>elements in the list</font> from the <font color=green>** 0th element -> 1st element**</font>. Or the element  <font color=green>**3**</font> from  <font color=green>**example_list[0]**</font> and  <font color=green>**4**</font> from  <font color=green>**example_list[1]**</font>.\n",
    "\n",
    "It is also worth noting that slicing will <font color=blue>always returned</font> the results in a <font color=green>*list*</font>\n",
    "\n",
    "Here are a list of few more example:\n",
    "<div class=\"alert alert-block alert-info\">\n",
    "**example_list[0:4]**  This would return **[3, 4, 5]**  \n",
    "\n",
    "**example_list[0:0]**  This would return **[]** Remember this means it is an <font color=green>**empty list**</font>    \n",
    "\n",
    "**example_list[2:3]**   This would return **[5]**  \n",
    "</div>\n"
   ]
  },
  {
   "cell_type": "code",
   "execution_count": null,
   "metadata": {
    "collapsed": true
   },
   "outputs": [],
   "source": []
  }
 ],
 "metadata": {
  "kernelspec": {
   "display_name": "Python 3",
   "language": "python",
   "name": "python3"
  },
  "language_info": {
   "codemirror_mode": {
    "name": "ipython",
    "version": 3
   },
   "file_extension": ".py",
   "mimetype": "text/x-python",
   "name": "python",
   "nbconvert_exporter": "python",
   "pygments_lexer": "ipython3",
   "version": "3.6.1"
  }
 },
 "nbformat": 4,
 "nbformat_minor": 2
}
